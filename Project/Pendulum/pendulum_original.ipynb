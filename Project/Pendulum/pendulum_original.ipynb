{
 "cells": [
  {
   "cell_type": "markdown",
   "metadata": {},
   "source": [
    "# Analyze pendulum data\n",
    "Use this notebook to quickly test whether your pendulum data makes sense!"
   ]
  },
  {
   "cell_type": "code",
   "execution_count": 18,
   "metadata": {},
   "outputs": [],
   "source": [
    "# Imports\n",
    "import numpy as np\n",
    "import matplotlib.pyplot as plt\n",
    "import seaborn as sns                                  # Make the plots nicer to look at\n",
    "from iminuit import Minuit                             # The actual fitting tool, better than scipy's\n",
    "import sys                                             # Module to see files and folders in directories\n",
    "from scipy import stats\n",
    "sys.path.append('../../External_Functions')            # Path to the external functions\n",
    "from ExternalFunctions import UnbinnedLH, BinnedLH, Chi2Regression\n",
    "from scipy import stats\n",
    "from scipy.stats import binom, poisson, norm           # Functions from SciPy Stats..."
   ]
  },
  {
   "cell_type": "code",
   "execution_count": 5,
   "metadata": {},
   "outputs": [],
   "source": [
    "# Example file location\n",
    "filename_example = 'timer_output1.dat'"
   ]
  },
  {
   "cell_type": "markdown",
   "metadata": {},
   "source": [
    "## Data reader"
   ]
  },
  {
   "cell_type": "code",
   "execution_count": 6,
   "metadata": {
    "code_folding": []
   },
   "outputs": [],
   "source": [
    "# Read in data\n",
    "def read_data(filename):\n",
    "    dat = np.genfromtxt(filename, delimiter='\\t', names=('n', 't_s'))\n",
    "    return dat"
   ]
  },
  {
   "cell_type": "code",
   "execution_count": 22,
   "metadata": {},
   "outputs": [],
   "source": [
    "def line(x, a,b):\n",
    "    \"\"\"Straight line function\"\"\"\n",
    "    return b+a*x"
   ]
  },
  {
   "cell_type": "code",
   "execution_count": 23,
   "metadata": {},
   "outputs": [],
   "source": [
    "data_example = read_data(filename_example)\n",
    "n, t = data_example['n'], data_example['t_s']\n",
    "periods=np.zeros(len(n)-1)\n",
    "\n",
    "for i in range(len(t)-1):\n",
    "    periods[i] += t[i+1] - t[i]\n",
    "\n"
   ]
  },
  {
   "cell_type": "code",
   "execution_count": 25,
   "metadata": {},
   "outputs": [
    {
     "data": {
      "text/html": [
       "<table>\n",
       "    <tr>\n",
       "        <th colspan=\"5\" style=\"text-align:center\" title=\"Minimizer\"> Migrad </th>\n",
       "    </tr>\n",
       "    <tr>\n",
       "        <td colspan=\"2\" style=\"text-align:left\" title=\"Minimum value of function\"> FCN = 0.1442 </td>\n",
       "        <td colspan=\"3\" style=\"text-align:center\" title=\"Total number of function and (optional) gradient evaluations\"> Nfcn = 38 </td>\n",
       "    </tr>\n",
       "    <tr>\n",
       "        <td colspan=\"2\" style=\"text-align:left\" title=\"Estimated distance to minimum and goal\"> EDM = 5.54e-21 (Goal: 0.0002) </td>\n",
       "        <td colspan=\"3\" style=\"text-align:center\" title=\"Total run time of algorithms\">  </td>\n",
       "    </tr>\n",
       "    <tr>\n",
       "        <td colspan=\"2\" style=\"text-align:center;background-color:#92CCA6;color:black\"> Valid Minimum </td>\n",
       "        <td colspan=\"3\" style=\"text-align:center;background-color:#92CCA6;color:black\"> No Parameters at limit </td>\n",
       "    </tr>\n",
       "    <tr>\n",
       "        <td colspan=\"2\" style=\"text-align:center;background-color:#92CCA6;color:black\"> Below EDM threshold (goal x 10) </td>\n",
       "        <td colspan=\"3\" style=\"text-align:center;background-color:#92CCA6;color:black\"> Below call limit </td>\n",
       "    </tr>\n",
       "    <tr>\n",
       "        <td style=\"text-align:center;background-color:#92CCA6;color:black\"> Covariance </td>\n",
       "        <td style=\"text-align:center;background-color:#92CCA6;color:black\"> Hesse ok </td>\n",
       "        <td style=\"text-align:center;background-color:#92CCA6;color:black\" title=\"Is covariance matrix accurate?\"> Accurate </td>\n",
       "        <td style=\"text-align:center;background-color:#92CCA6;color:black\" title=\"Is covariance matrix positive definite?\"> Pos. def. </td>\n",
       "        <td style=\"text-align:center;background-color:#92CCA6;color:black\" title=\"Was positive definiteness enforced by Minuit?\"> Not forced </td>\n",
       "    </tr>\n",
       "</table><table>\n",
       "    <tr>\n",
       "        <td></td>\n",
       "        <th title=\"Variable name\"> Name </th>\n",
       "        <th title=\"Value of parameter\"> Value </th>\n",
       "        <th title=\"Hesse error\"> Hesse Error </th>\n",
       "        <th title=\"Minos lower error\"> Minos Error- </th>\n",
       "        <th title=\"Minos upper error\"> Minos Error+ </th>\n",
       "        <th title=\"Lower limit of the parameter\"> Limit- </th>\n",
       "        <th title=\"Upper limit of the parameter\"> Limit+ </th>\n",
       "        <th title=\"Is the parameter fixed in the fit\"> Fixed </th>\n",
       "    </tr>\n",
       "    <tr>\n",
       "        <th> 0 </th>\n",
       "        <td> a </td>\n",
       "        <td> 2.7327 </td>\n",
       "        <td> 0.0035 </td>\n",
       "        <td>  </td>\n",
       "        <td>  </td>\n",
       "        <td>  </td>\n",
       "        <td>  </td>\n",
       "        <td>  </td>\n",
       "    </tr>\n",
       "    <tr>\n",
       "        <th> 1 </th>\n",
       "        <td> b </td>\n",
       "        <td> 1.67 </td>\n",
       "        <td> 0.20 </td>\n",
       "        <td>  </td>\n",
       "        <td>  </td>\n",
       "        <td>  </td>\n",
       "        <td>  </td>\n",
       "        <td>  </td>\n",
       "    </tr>\n",
       "</table><table>\n",
       "    <tr>\n",
       "        <td></td>\n",
       "        <th> a </th>\n",
       "        <th> b </th>\n",
       "    </tr>\n",
       "    <tr>\n",
       "        <th> a </th>\n",
       "        <td> 1.2e-05 </td>\n",
       "        <td style=\"background-color:rgb(137,137,250);color:black\"> -0.000606 <strong>(-0.868)</strong> </td>\n",
       "    </tr>\n",
       "    <tr>\n",
       "        <th> b </th>\n",
       "        <td style=\"background-color:rgb(137,137,250);color:black\"> -0.000606 <strong>(-0.868)</strong> </td>\n",
       "        <td> 0.0406 </td>\n",
       "    </tr>\n",
       "</table>"
      ],
      "text/plain": [
       "┌─────────────────────────────────────────────────────────────────────────┐\n",
       "│                                Migrad                                   │\n",
       "├──────────────────────────────────┬──────────────────────────────────────┤\n",
       "│ FCN = 0.1442                     │              Nfcn = 38               │\n",
       "│ EDM = 5.54e-21 (Goal: 0.0002)    │                                      │\n",
       "├──────────────────────────────────┼──────────────────────────────────────┤\n",
       "│          Valid Minimum           │        No Parameters at limit        │\n",
       "├──────────────────────────────────┼──────────────────────────────────────┤\n",
       "│ Below EDM threshold (goal x 10)  │           Below call limit           │\n",
       "├───────────────┬──────────────────┼───────────┬─────────────┬────────────┤\n",
       "│  Covariance   │     Hesse ok     │ Accurate  │  Pos. def.  │ Not forced │\n",
       "└───────────────┴──────────────────┴───────────┴─────────────┴────────────┘\n",
       "┌───┬──────┬───────────┬───────────┬────────────┬────────────┬─────────┬─────────┬───────┐\n",
       "│   │ Name │   Value   │ Hesse Err │ Minos Err- │ Minos Err+ │ Limit-  │ Limit+  │ Fixed │\n",
       "├───┼──────┼───────────┼───────────┼────────────┼────────────┼─────────┼─────────┼───────┤\n",
       "│ 0 │ a    │  2.7327   │  0.0035   │            │            │         │         │       │\n",
       "│ 1 │ b    │   1.67    │   0.20    │            │            │         │         │       │\n",
       "└───┴──────┴───────────┴───────────┴────────────┴────────────┴─────────┴─────────┴───────┘\n",
       "┌───┬─────────────────────┐\n",
       "│   │         a         b │\n",
       "├───┼─────────────────────┤\n",
       "│ a │   1.2e-05 -0.000606 │\n",
       "│ b │ -0.000606    0.0406 │\n",
       "└───┴─────────────────────┘"
      ]
     },
     "execution_count": 25,
     "metadata": {},
     "output_type": "execute_result"
    }
   ],
   "source": [
    "chi2_bin = Chi2Regression(line, n, t)\n",
    "chi2_bin.errordef = 1\n",
    "minuit_bin = Minuit(chi2_bin, a=2.7, b=0) #   \n",
    "minuit_bin.migrad()          # Perform the actual fit"
   ]
  },
  {
   "cell_type": "code",
   "execution_count": 27,
   "metadata": {},
   "outputs": [
    {
     "name": "stdout",
     "output_type": "stream",
     "text": [
      "<ValueView a=2.73272706630657 b=1.6652171515116907>\n",
      "<ErrorView a=0.003464274957686045 b=0.20150946292779792>\n"
     ]
    }
   ],
   "source": [
    "print(minuit_bin.values)\n",
    "print(minuit_bin.errors)"
   ]
  },
  {
   "cell_type": "code",
   "execution_count": 28,
   "metadata": {},
   "outputs": [],
   "source": [
    "a=minuit_bin.values['a']\n",
    "b=minuit_bin.values['b']"
   ]
  },
  {
   "cell_type": "markdown",
   "metadata": {},
   "source": [
    "## Read and plot the data"
   ]
  },
  {
   "cell_type": "code",
   "execution_count": 36,
   "metadata": {
    "code_folding": [],
    "scrolled": false
   },
   "outputs": [
    {
     "data": {
      "text/plain": [
       "[<matplotlib.lines.Line2D at 0x20c42144f10>]"
      ]
     },
     "execution_count": 36,
     "metadata": {},
     "output_type": "execute_result"
    },
    {
     "data": {
      "image/png": "[encoded data removed]",
      "text/plain": [
       "<Figure size 1152x864 with 2 Axes>"
      ]
     },
     "metadata": {
      "needs_background": "light"
     },
     "output_type": "display_data"
    }
   ],
   "source": [
    "c=np.linspace(0, 100, 10000)\n",
    "\n",
    "res=t-line(n,a,b)\n",
    "# Plotting\n",
    "sig_t = 0.1     # Set your own values...\n",
    "fig, ax = plt.subplots(nrows=2, ncols=1, figsize=(16, 12), gridspec_kw={'height_ratios':[4,1]}, sharex=True)\n",
    "ax[0].plot(c, line(c, a, b), label='Fit')\n",
    "ax[0].legend()\n",
    "ax[0].errorbar(n, t, yerr=sig_t, color='k', fmt='o')\n",
    "ax[0].set_xlabel('Timing measurement number', fontsize=18)\n",
    "ax[0].set_ylabel('Time elapsed (s)', fontsize=18)\n",
    "ax[0].set(xlim=(0, n[-1]+np.ediff1d(n)[0]), ylim=(0, t[-1]+np.ediff1d(t)[0]))\n",
    "ax[1].plot(n, res,'o', color='k')\n",
    "ax[1].plot(n, np.zeros(len(n)), color='r')"
   ]
  },
  {
   "cell_type": "code",
   "execution_count": 14,
   "metadata": {},
   "outputs": [
    {
     "data": {
      "text/plain": [
       "(array([ 1.,  2.,  3.,  3.,  5.,  7.,  9.,  3., 12.,  9., 12., 11.,  9.,\n",
       "         6.,  0.,  2.,  3.,  0.,  1.,  1.]),\n",
       " array([2.6119, 2.625 , 2.6381, 2.6512, 2.6643, 2.6774, 2.6905, 2.7036,\n",
       "        2.7167, 2.7298, 2.7429, 2.756 , 2.7691, 2.7822, 2.7953, 2.8084,\n",
       "        2.8215, 2.8346, 2.8477, 2.8608, 2.8739]),\n",
       " <a list of 20 Patch objects>)"
      ]
     },
     "execution_count": 14,
     "metadata": {},
     "output_type": "execute_result"
    },
    {
     "data": {
      "image/png": "[encoded data removed]",
      "text/plain": [
       "<Figure size 432x288 with 1 Axes>"
      ]
     },
     "metadata": {
      "needs_background": "light"
     },
     "output_type": "display_data"
    }
   ],
   "source": [
    "plt.hist(periods, bins=20)"
   ]
  },
  {
   "cell_type": "code",
   "execution_count": 19,
   "metadata": {},
   "outputs": [],
   "source": [
    "def func_gaussian(x, N, mu, sigma) :\n",
    "    return N * norm.pdf(x, mu, sigma)"
   ]
  },
  {
   "cell_type": "code",
   "execution_count": 20,
   "metadata": {},
   "outputs": [
    {
     "ename": "NameError",
     "evalue": "name 'x' is not defined",
     "output_type": "error",
     "traceback": [
      "\u001b[1;31m---------------------------------------------------------------------------\u001b[0m",
      "\u001b[1;31mNameError\u001b[0m                                 Traceback (most recent call last)",
      "\u001b[1;32m<ipython-input-20-f445c2218054>\u001b[0m in \u001b[0;36m<module>\u001b[1;34m\u001b[0m\n\u001b[1;32m----> 1\u001b[1;33m \u001b[0mchi2_gaussian\u001b[0m \u001b[1;33m=\u001b[0m \u001b[0mChi2Regression\u001b[0m\u001b[1;33m(\u001b[0m\u001b[0mfunc_gaussian\u001b[0m\u001b[1;33m,\u001b[0m \u001b[0mx\u001b[0m\u001b[1;33m,\u001b[0m \u001b[0my\u001b[0m\u001b[1;33m,\u001b[0m \u001b[0msy\u001b[0m\u001b[1;33m)\u001b[0m\u001b[1;33m\u001b[0m\u001b[1;33m\u001b[0m\u001b[0m\n\u001b[0m\u001b[0;32m      2\u001b[0m \u001b[0mchi2_gaussian\u001b[0m\u001b[1;33m.\u001b[0m\u001b[0merrordef\u001b[0m \u001b[1;33m=\u001b[0m \u001b[1;36m1\u001b[0m\u001b[1;33m\u001b[0m\u001b[1;33m\u001b[0m\u001b[0m\n\u001b[0;32m      3\u001b[0m \u001b[0mminuit_gaussian\u001b[0m \u001b[1;33m=\u001b[0m \u001b[0mMinuit\u001b[0m\u001b[1;33m(\u001b[0m\u001b[0mchi2_gaussian\u001b[0m\u001b[1;33m,\u001b[0m \u001b[0mN\u001b[0m\u001b[1;33m=\u001b[0m\u001b[1;36m99\u001b[0m\u001b[1;33m,\u001b[0m \u001b[0mmu\u001b[0m\u001b[1;33m=\u001b[0m\u001b[1;36m2.7\u001b[0m\u001b[1;33m,\u001b[0m \u001b[0msigma\u001b[0m\u001b[1;33m=\u001b[0m\u001b[0mnp\u001b[0m\u001b[1;33m.\u001b[0m\u001b[0msqrt\u001b[0m\u001b[1;33m(\u001b[0m\u001b[1;36m2.7\u001b[0m\u001b[1;33m)\u001b[0m\u001b[1;33m)\u001b[0m \u001b[1;31m#\u001b[0m\u001b[1;33m\u001b[0m\u001b[1;33m\u001b[0m\u001b[0m\n\u001b[0;32m      4\u001b[0m \u001b[0mminuit_gaussian\u001b[0m\u001b[1;33m.\u001b[0m\u001b[0mmigrad\u001b[0m\u001b[1;33m(\u001b[0m\u001b[1;33m)\u001b[0m\u001b[1;33m;\u001b[0m       \u001b[1;31m# Perform the actual fit\u001b[0m\u001b[1;33m\u001b[0m\u001b[1;33m\u001b[0m\u001b[0m\n\u001b[0;32m      5\u001b[0m \u001b[0mChi2_gau\u001b[0m \u001b[1;33m=\u001b[0m \u001b[0mminuit_gaussian\u001b[0m\u001b[1;33m.\u001b[0m\u001b[0mfval\u001b[0m\u001b[1;33m\u001b[0m\u001b[1;33m\u001b[0m\u001b[0m\n",
      "\u001b[1;31mNameError\u001b[0m: name 'x' is not defined"
     ]
    }
   ],
   "source": [
    "# chi2_gaussian = Chi2Regression(func_gaussian, periods, len(periods), sy)\n",
    "# chi2_gaussian.errordef = 1\n",
    "# minuit_gaussian = Minuit(chi2_gaussian, N=99, mu=2.7, sigma=np.sqrt(2.7)) #   \n",
    "# minuit_gaussian.migrad();       # Perform the actual fit\n",
    "# Chi2_gau = minuit_gaussian.fval\n",
    "# Ndof_gau = len(x) - 3           # 3 parameters in fit\n",
    "# Prob_gau = stats.chi2.sf(Chi2_gau, Ndof_gau)"
   ]
  },
  {
   "cell_type": "markdown",
   "metadata": {},
   "source": [
    "# What to do next?\n",
    "\n",
    "The reason for the (empty) plot below is, that though your data (hopefully) lies on a line, you're not able to see any smaller effects. However, if you plot the __residuals__ (the difference between your measurements and a fit to them), then you will much better be able to tell, if the data looks good. Also, it is from a historgram of the residuals, that you can determine, if your errors are Gaussian (or have any obvious outliers), and from the Standard Deviation what your (typical) uncertainty is."
   ]
  }
 ],
 "metadata": {
  "kernelspec": {
   "display_name": "Python 3.8.3 ('base')",
   "language": "python",
   "name": "python3"
  },
  "language_info": {
   "codemirror_mode": {
    "name": "ipython",
    "version": 3
   },
   "file_extension": ".py",
   "mimetype": "text/x-python",
   "name": "python",
   "nbconvert_exporter": "python",
   "pygments_lexer": "ipython3",
   "version": "3.8.3"
  },
  "vscode": {
   "interpreter": {
    "hash": "86375d64dae07698351ac76e569087e6053bcbeab2bf9c1ac0b19c9728c81fbe"
   }
  }
 },
 "nbformat": 4,
 "nbformat_minor": 2
}
