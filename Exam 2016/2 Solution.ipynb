{
 "cells": [
  {
   "cell_type": "code",
   "execution_count": 2,
   "metadata": {},
   "outputs": [],
   "source": [
    "import numpy as np                                     # Matlab like syntax for linear algebra and functions\n",
    "from numpy.linalg import matrix_power                  # This is to raise matrices to powers\n",
    "import matplotlib.pyplot as plt                        # Plots and figures like you know them from Matlab\n",
    "import seaborn as sns                                  # Make the plots nicer to look at\n",
    "from iminuit import Minuit                             # The actual fitting tool, better than scipy's\n",
    "import sys                                             # Module to see files and folders in directories\n",
    "from scipy import stats\n",
    "import sympy as sp"
   ]
  },
  {
   "attachments": {},
   "cell_type": "markdown",
   "metadata": {},
   "source": [
    "# 2.1"
   ]
  },
  {
   "cell_type": "code",
   "execution_count": null,
   "metadata": {},
   "outputs": [],
   "source": []
  },
  {
   "attachments": {},
   "cell_type": "markdown",
   "metadata": {},
   "source": [
    "$\\sqrt{\\frac{\\sigma_L^2}{\\pi^2 r^4}+\\frac{4L\\sigma_r^2}{\\pi^2 r^6}}$\n",
    "\n",
    "$\\frac{\\sigma_L}{L}+2\\frac{\\sigma_r}{r}$"
   ]
  },
  {
   "attachments": {},
   "cell_type": "markdown",
   "metadata": {},
   "source": [
    "# 2.2"
   ]
  },
  {
   "cell_type": "code",
   "execution_count": 24,
   "metadata": {},
   "outputs": [
    {
     "name": "stdout",
     "output_type": "stream",
     "text": [
      "Average speed: 3.1 +/- 0.3 m/s\n",
      "Kinetic energy: 404.7 +/- 73.6 J\n",
      "Speed contribution: 69.6 vs mass contribution: 24.1\n",
      "Number of more speed measurements needed: 83.4\n"
     ]
    }
   ],
   "source": [
    "speeds = np.array([3.61,2.00,3.90,2.23,2.32,2.48,2.43,3.86,4.43,3.78])\n",
    "average_speed = np.mean(speeds)\n",
    "error_average_speed = np.std(speeds)/np.sqrt(len(speeds))\n",
    "print('Average speed: {:.1f} +/- {:.1f} m/s'.format(average_speed,error_average_speed))\n",
    "\n",
    "m_bullet = 8.4e-3\n",
    "error_m_bullet = 0.5e-3\n",
    "\n",
    "kinetic_energy = 0.5*m_bullet*(average_speed*100)**2\n",
    "error_kinetic_energy = np.sqrt((m_bullet*average_speed*100*error_average_speed*100)**2+(0.5*(average_speed*100)**2*error_m_bullet)**2)\n",
    "\n",
    "print('Kinetic energy: {:.1f} +/- {:.1f} J'.format(kinetic_energy,error_kinetic_energy))\n",
    "\n",
    "\n",
    "# Calculate the contributions of the errors to the total error\n",
    "speed_contrib = m_bullet*average_speed*100*error_average_speed*100\n",
    "mass_contrib = 0.5*(average_speed*100)**2*error_m_bullet\n",
    "print('Speed contribution: {:.1f} vs mass contribution: {:.1f}'.format(speed_contrib,mass_contrib))\n",
    "\n",
    "# The amount of more speed measurements needed for the two uncertainties to be equal\n",
    "N_more = (speed_contrib/mass_contrib)**2 \n",
    "print('Number of more speed measurements needed: {:.1f}'.format(N_more*10))"
   ]
  }
 ],
 "metadata": {
  "kernelspec": {
   "display_name": "base",
   "language": "python",
   "name": "python3"
  },
  "language_info": {
   "codemirror_mode": {
    "name": "ipython",
    "version": 3
   },
   "file_extension": ".py",
   "mimetype": "text/x-python",
   "name": "python",
   "nbconvert_exporter": "python",
   "pygments_lexer": "ipython3",
   "version": "3.8.3"
  },
  "orig_nbformat": 4,
  "vscode": {
   "interpreter": {
    "hash": "86375d64dae07698351ac76e569087e6053bcbeab2bf9c1ac0b19c9728c81fbe"
   }
  }
 },
 "nbformat": 4,
 "nbformat_minor": 2
}
