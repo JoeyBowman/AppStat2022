{
 "cells": [
  {
   "cell_type": "code",
   "execution_count": 30,
   "metadata": {},
   "outputs": [],
   "source": [
    "import numpy as np                                     # Matlab like syntax for linear algebra and functions\n",
    "from numpy.linalg import matrix_power                  # This is to raise matrices to powers\n",
    "import matplotlib.pyplot as plt                        # Plots and figures like you know them from Matlab\n",
    "import seaborn as sns                                  # Make the plots nicer to look at\n",
    "from iminuit import Minuit                             # The actual fitting tool, better than scipy's\n",
    "import sys                                             # Module to see files and folders in directories\n",
    "from scipy import stats\n",
    "import sympy as sp"
   ]
  },
  {
   "attachments": {},
   "cell_type": "markdown",
   "metadata": {},
   "source": [
    "# 5.2"
   ]
  },
  {
   "cell_type": "code",
   "execution_count": 31,
   "metadata": {},
   "outputs": [],
   "source": [
    "sys.path.append('../External_Functions')                       # Add the folder with the functions to the path\n",
    "from MyFunctions import *\n",
    "matplotlib_plotparameters()                                    # Set the plot parameters to something nice"
   ]
  },
  {
   "cell_type": "code",
   "execution_count": 32,
   "metadata": {},
   "outputs": [
    {
     "name": "stdout",
     "output_type": "stream",
     "text": [
      "1726\n",
      "(-0.606, 0.483)\n"
     ]
    },
    {
     "data": {
      "image/png": "[encoded data removed]",
      "text/plain": [
       "<Figure size 800x480 with 1 Axes>"
      ]
     },
     "metadata": {},
     "output_type": "display_data"
    }
   ],
   "source": [
    "data = np.genfromtxt('data_TimingResiduals.txt')\n",
    "res = data\n",
    "print(len(res))\n",
    "# plot the residuals\n",
    "plt.figure(figsize=(10,6))\n",
    "rms = np.std(res)\n",
    "Nbins = 20\n",
    "counts, counts_er, bin_centers, bin_width, dmin, dmax = hist_create(res, Nbins)\n",
    "range=(dmin,dmax)\n",
    "print(range)\n",
    "# plt.errorbar(data, res, yerr=rms, fmt='o', label='Data')\n"
   ]
  },
  {
   "cell_type": "code",
   "execution_count": 34,
   "metadata": {},
   "outputs": [
    {
     "name": "stdout",
     "output_type": "stream",
     "text": [
      "0\n",
      "1\n",
      "2\n"
     ]
    }
   ],
   "source": [
    "hal = np.arange(0,len(res),1)\n",
    "for x in hal:\n",
    "  if x == 3: break\n",
    "  print(x)"
   ]
  },
  {
   "cell_type": "code",
   "execution_count": 46,
   "metadata": {},
   "outputs": [
    {
     "name": "stdout",
     "output_type": "stream",
     "text": [
      "[537, -0.606, 0.00015295480880648878, -6.897656512212872, 4.562387578843641e-09]\n",
      "[946, 0.483, 0.0005043478260869563, 5.566218294998109, 2.245295948144488e-05]\n",
      "[428, 0.463, 0.0002244779582366588, 5.385787753410765, 6.217243727102417e-05]\n",
      "[42, 0.354, -4.410911201392949e-05, 4.1542921166030675, 0.027719211531991084]\n"
     ]
    },
    {
     "data": {
      "text/plain": [
       "<function matplotlib.pyplot.show(*args, **kw)>"
      ]
     },
     "execution_count": 46,
     "metadata": {},
     "output_type": "execute_result"
    }
   ],
   "source": [
    "test_data = [9,10, 10, 10,11,50]\n",
    "# print(test_data - np.mean(test_data)/np.std(test_data))\n",
    "# Chauvanet's criterion\n",
    "hal = np.arange(0,len(res),1)\n",
    "def survival_function(x,sigma,z):\n",
    "    return stats.norm.pdf(z,loc = 0, scale = sigma/np.sqrt(len(x)))\n",
    "\n",
    "\n",
    "\n",
    "\n",
    "res_midl = res\n",
    "for i in res:\n",
    "    # 1. Compute the mean and standard deviation of the data\n",
    "    mean = np.mean(res_midl)\n",
    "    std = np.std(res_midl)\n",
    "\n",
    "    # 2. Compute the z-score of each data point\n",
    "    z_scores = (res_midl - mean) / std\n",
    "    # plt.plot(hal,abs(z_scores),'o')\n",
    "\n",
    "    # 3. Compute the probability of each z-score\n",
    "    loc_prob = stats.norm.sf(abs(z_scores),loc = 0)\n",
    "\n",
    "    # 4. Compute the global probability\n",
    "    global_prob = 1-(1-loc_prob)**(len(res_midl))\n",
    "\n",
    "    # 5. Get the outliers\n",
    "    rip = np.argmax(abs(z_scores))\n",
    "\n",
    "    if global_prob[rip] > 0.01:\n",
    "        outlier = [rip,res_midl[rip],mean,z_scores[rip],global_prob[rip]]\n",
    "        print(outlier)\n",
    "        break\n",
    "\n",
    "    outlier = [rip,res_midl[rip],mean,z_scores[rip],global_prob[rip]]\n",
    "    print(outlier)\n",
    "\n",
    "    # 6. Remove the outliers\n",
    "    res_midl = np.delete(res_midl,rip)\n",
    "\n",
    "# plt.hist(outliers,bins=Nbins,range=range)\n",
    "plt.show\n"
   ]
  },
  {
   "cell_type": "code",
   "execution_count": null,
   "metadata": {},
   "outputs": [],
   "source": []
  }
 ],
 "metadata": {
  "kernelspec": {
   "display_name": "base",
   "language": "python",
   "name": "python3"
  },
  "language_info": {
   "codemirror_mode": {
    "name": "ipython",
    "version": 3
   },
   "file_extension": ".py",
   "mimetype": "text/x-python",
   "name": "python",
   "nbconvert_exporter": "python",
   "pygments_lexer": "ipython3",
   "version": "3.8.3"
  },
  "orig_nbformat": 4,
  "vscode": {
   "interpreter": {
    "hash": "86375d64dae07698351ac76e569087e6053bcbeab2bf9c1ac0b19c9728c81fbe"
   }
  }
 },
 "nbformat": 4,
 "nbformat_minor": 2
}
