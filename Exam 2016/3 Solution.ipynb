{
 "cells": [
  {
   "cell_type": "code",
   "execution_count": 15,
   "metadata": {},
   "outputs": [],
   "source": [
    "import numpy as np                                     # Matlab like syntax for linear algebra and functions\n",
    "from numpy.linalg import matrix_power                  # This is to raise matrices to powers\n",
    "import matplotlib.pyplot as plt                        # Plots and figures like you know them from Matlab\n",
    "import seaborn as sns                                  # Make the plots nicer to look at\n",
    "from iminuit import Minuit                             # The actual fitting tool, better than scipy's\n",
    "import sys                                             # Module to see files and folders in directories\n",
    "from scipy import stats\n",
    "import sympy as sp"
   ]
  },
  {
   "attachments": {},
   "cell_type": "markdown",
   "metadata": {},
   "source": [
    "# 3.1"
   ]
  },
  {
   "cell_type": "code",
   "execution_count": 16,
   "metadata": {},
   "outputs": [],
   "source": [
    "sys.path.append('../External_Functions')                       # Add the folder with the functions to the path\n",
    "from MyFunctions import *\n",
    "matplotlib_plotparameters()                                    # Set the plot parameters to something nice"
   ]
  },
  {
   "cell_type": "code",
   "execution_count": 17,
   "metadata": {},
   "outputs": [],
   "source": [
    "def pdf(x,C):\n",
    "    return C*x**(-0.9)"
   ]
  },
  {
   "cell_type": "code",
   "execution_count": 18,
   "metadata": {},
   "outputs": [
    {
     "name": "stdout",
     "output_type": "stream",
     "text": [
      "[0.243133909726934]\n",
      "1.00000000000000\n"
     ]
    }
   ],
   "source": [
    "C = sp.symbols('C')\n",
    "x = sp.symbols('x')\n",
    "C_test = sp.solve(sp.integrate(pdf(x,C),(x,0.005,1))-1,C)\n",
    "\n",
    "print(C_test)\n",
    "print(sp.integrate(pdf(x,C_test[0]),(x,0.005,1)))\n"
   ]
  },
  {
   "cell_type": "code",
   "execution_count": null,
   "metadata": {},
   "outputs": [],
   "source": [
    "\n"
   ]
  },
  {
   "cell_type": "code",
   "execution_count": 19,
   "metadata": {},
   "outputs": [],
   "source": [
    "def cube(x,C):\n",
    "    return C*x**3"
   ]
  },
  {
   "cell_type": "code",
   "execution_count": 20,
   "metadata": {},
   "outputs": [
    {
     "name": "stdout",
     "output_type": "stream",
     "text": [
      "[0.243133909726934]\n"
     ]
    }
   ],
   "source": [
    "C_test = normalize(pdf,[0.005,1])\n",
    "print(C_test)"
   ]
  },
  {
   "cell_type": "code",
   "execution_count": null,
   "metadata": {},
   "outputs": [],
   "source": [
    "\n",
    "    "
   ]
  },
  {
   "cell_type": "code",
   "execution_count": 21,
   "metadata": {},
   "outputs": [
    {
     "name": "stdout",
     "output_type": "stream",
     "text": [
      "[4]\n"
     ]
    }
   ],
   "source": [
    "ces = normalize(cube,[0,1])\n",
    "print(ces)"
   ]
  },
  {
   "cell_type": "code",
   "execution_count": 22,
   "metadata": {},
   "outputs": [
    {
     "name": "stdout",
     "output_type": "stream",
     "text": [
      "[-y**(1/4), y**(1/4), -I*y**(1/4), I*y**(1/4)]\n"
     ]
    },
    {
     "data": {
      "image/png": "[encoded data removed]",
      "text/plain": [
       "<Figure size 800x640 with 1 Axes>"
      ]
     },
     "metadata": {},
     "output_type": "display_data"
    }
   ],
   "source": [
    "\n",
    "\n",
    "#plot histogram of the generated numbers\n",
    "Npoints = 10000\n",
    "x = sp.symbols('x')\n",
    "eq = pdf(x,C_test[0])\n",
    "\n",
    "\n",
    "eq1 = cube(x,ces[0])\n",
    "\n",
    "xes = tranform_method(eq,x,Npoints,[0.005,1])\n",
    "xes1 = tranform_method(eq1,x,Npoints,[0,1],inv_func = True)\n",
    "\n",
    "# print(np.shape(xes))\n",
    "\n",
    "plt.hist(xes,bins=100,range=[0,1])\n",
    "# print(xes1)\n",
    "\n",
    "# plt.plot(np.linspace(-1,0,Npoints),\n",
    "\n",
    "\n",
    "plt.hist(xes1,bins=100,range=[0,1],alpha=0.5)\n",
    "plt.show()\n"
   ]
  },
  {
   "cell_type": "code",
   "execution_count": null,
   "metadata": {},
   "outputs": [],
   "source": []
  },
  {
   "cell_type": "code",
   "execution_count": 23,
   "metadata": {},
   "outputs": [
    {
     "data": {
      "text/latex": [
       "$\\displaystyle 28.6267819453868$"
      ],
      "text/plain": [
       "28.6267819453868"
      ]
     },
     "execution_count": 23,
     "metadata": {},
     "output_type": "execute_result"
    }
   ],
   "source": [
    "pdf(0.005,C_test[0])"
   ]
  },
  {
   "cell_type": "code",
   "execution_count": 24,
   "metadata": {},
   "outputs": [],
   "source": [
    "test = acc_rej(pdf,C_test[0],10000,[0.005,1,30])"
   ]
  },
  {
   "cell_type": "code",
   "execution_count": 25,
   "metadata": {},
   "outputs": [
    {
     "data": {
      "image/png": "[encoded data removed]",
      "text/plain": [
       "<Figure size 800x640 with 1 Axes>"
      ]
     },
     "metadata": {},
     "output_type": "display_data"
    }
   ],
   "source": [
    "plt.hist(test,bins=100,range=[0.005,1]);\n",
    "\n",
    "#make the y axis logarithmic\n",
    "plt.yscale('log')"
   ]
  },
  {
   "cell_type": "code",
   "execution_count": null,
   "metadata": {},
   "outputs": [],
   "source": []
  }
 ],
 "metadata": {
  "kernelspec": {
   "display_name": "base",
   "language": "python",
   "name": "python3"
  },
  "language_info": {
   "codemirror_mode": {
    "name": "ipython",
    "version": 3
   },
   "file_extension": ".py",
   "mimetype": "text/x-python",
   "name": "python",
   "nbconvert_exporter": "python",
   "pygments_lexer": "ipython3",
   "version": "3.8.3"
  },
  "orig_nbformat": 4,
  "vscode": {
   "interpreter": {
    "hash": "86375d64dae07698351ac76e569087e6053bcbeab2bf9c1ac0b19c9728c81fbe"
   }
  }
 },
 "nbformat": 4,
 "nbformat_minor": 2
}
