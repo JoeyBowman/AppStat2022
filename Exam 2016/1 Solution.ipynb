{
 "cells": [
  {
   "cell_type": "code",
   "execution_count": 40,
   "metadata": {},
   "outputs": [],
   "source": [
    "import numpy as np                                     # Matlab like syntax for linear algebra and functions\n",
    "from numpy.linalg import matrix_power                  # This is to raise matrices to powers\n",
    "import matplotlib.pyplot as plt                        # Plots and figures like you know them from Matlab\n",
    "import seaborn as sns                                  # Make the plots nicer to look at\n",
    "from iminuit import Minuit                             # The actual fitting tool, better than scipy's\n",
    "import sys                                             # Module to see files and folders in directories\n",
    "from scipy import stats\n",
    "import sympy as sp"
   ]
  },
  {
   "attachments": {},
   "cell_type": "markdown",
   "metadata": {},
   "source": [
    "# 1.1"
   ]
  },
  {
   "attachments": {},
   "cell_type": "markdown",
   "metadata": {},
   "source": [
    "Get no sunshine when I code\n",
    "\n",
    "Only darkness every day\n",
    "\n",
    "Get no sunshine when i code\n",
    "\n",
    "I'm always so alone\n",
    "\n",
    "Every time that I code"
   ]
  },
  {
   "cell_type": "code",
   "execution_count": 41,
   "metadata": {},
   "outputs": [
    {
     "name": "stdout",
     "output_type": "stream",
     "text": [
      "Probability of winning game with one die:  0.5177469135802468\n",
      "Probability of winning game with two dice:  0.4914038761309032\n"
     ]
    }
   ],
   "source": [
    "game_1d = stats.binom.sf(0,4,1/6)\n",
    "game_2d = stats.binom.sf(0,24,1/36)\n",
    "\n",
    "print(\"Probability of winning game with one die: \", game_1d)\n",
    "print(\"Probability of winning game with two dice: \", game_2d)"
   ]
  },
  {
   "attachments": {},
   "cell_type": "markdown",
   "metadata": {},
   "source": [
    "# 1.2\n",
    "Should follow Poisson dist"
   ]
  },
  {
   "cell_type": "code",
   "execution_count": 42,
   "metadata": {},
   "outputs": [
    {
     "name": "stdout",
     "output_type": "stream",
     "text": [
      "The Local probability of observing 42 or more muons/events in 1 day:  1.3718502458083341e-06\n",
      "The Global probability of observing 42 or more muons/events in 1 day:  0.0023704884973593243\n"
     ]
    }
   ],
   "source": [
    "Ice_cube_42 = stats.poisson.sf(42, 18.9)\n",
    "print(\"The Local probability of observing 42 or more muons/events in 1 day: \", Ice_cube_42)\n",
    "print(\"The Global probability of observing 42 or more muons/events in 1 day: \", 1-(1-Ice_cube_42)**1730)"
   ]
  },
  {
   "attachments": {},
   "cell_type": "markdown",
   "metadata": {},
   "source": [
    "# 1.3\n"
   ]
  },
  {
   "cell_type": "code",
   "execution_count": 43,
   "metadata": {},
   "outputs": [
    {
     "name": "stdout",
     "output_type": "stream",
     "text": [
      "The probability of a person being taller than 185 cm:  0.0023032661316958825\n"
     ]
    }
   ],
   "source": [
    "tl_185 = stats.norm.sf(185, 168, 6)\n",
    "print(\"The probability of a person being taller than 185 cm: \", tl_185)"
   ]
  },
  {
   "cell_type": "code",
   "execution_count": 44,
   "metadata": {},
   "outputs": [
    {
     "data": {
      "image/png": "[encoded data removed]",
      "text/plain": [
       "<Figure size 432x288 with 1 Axes>"
      ]
     },
     "metadata": {
      "needs_background": "light"
     },
     "output_type": "display_data"
    },
    {
     "name": "stdout",
     "output_type": "stream",
     "text": [
      "1000\n"
     ]
    }
   ],
   "source": [
    "x = np.linspace(145, 190, 1000)\n",
    "heights = stats.norm.pdf(x,168,6)\n",
    "plt.plot(x, heights)\n",
    "plt.xlabel(\"Height [cm]\")\n",
    "plt.ylabel('Frequency [a.u.]')\n",
    "\n",
    "\n",
    "plt.show()\n",
    "\n",
    "print(len(heights))"
   ]
  },
  {
   "cell_type": "code",
   "execution_count": 65,
   "metadata": {},
   "outputs": [
    {
     "name": "stdout",
     "output_type": "stream",
     "text": [
      "173.06306306306305\n",
      "The average height of the 80th percentile:  -0.011063063063062373\n"
     ]
    }
   ],
   "source": [
    "tot= np.cumsum(heights, axis=0)/np.sum(heights)\n",
    "\n",
    "high_20 = np.where(tot > 0.8)[-1]\n",
    "print(x[high_20[0]])\n",
    "print(\"The average height of the 80th percentile: \", 168+6*0.842-x[high_20[0]])\n"
   ]
  },
  {
   "cell_type": "code",
   "execution_count": null,
   "metadata": {},
   "outputs": [],
   "source": []
  }
 ],
 "metadata": {
  "kernelspec": {
   "display_name": "base",
   "language": "python",
   "name": "python3"
  },
  "language_info": {
   "codemirror_mode": {
    "name": "ipython",
    "version": 3
   },
   "file_extension": ".py",
   "mimetype": "text/x-python",
   "name": "python",
   "nbconvert_exporter": "python",
   "pygments_lexer": "ipython3",
   "version": "3.8.3"
  },
  "orig_nbformat": 4,
  "vscode": {
   "interpreter": {
    "hash": "86375d64dae07698351ac76e569087e6053bcbeab2bf9c1ac0b19c9728c81fbe"
   }
  }
 },
 "nbformat": 4,
 "nbformat_minor": 2
}
