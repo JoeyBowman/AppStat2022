{
 "cells": [
  {
   "attachments": {},
   "cell_type": "markdown",
   "id": "cd2f6eea",
   "metadata": {},
   "source": [
    "# Problem set ztp370 - AppStat 2022/2023\n",
    "\n",
    "\n",
    "\n",
    "\n",
    "### Author: \n",
    "- Eric Steen Ravn Bowman\n",
    "\n",
    "### Date:    \n",
    "- 03-01-2023 \n",
    "\n",
    "***"
   ]
  },
  {
   "cell_type": "markdown",
   "metadata": {},
   "source": [
    "As always we will include a collection of libraries (Standard)"
   ]
  },
  {
   "cell_type": "code",
   "execution_count": 1,
   "metadata": {},
   "outputs": [],
   "source": [
    "import numpy as np                                     # Matlab like syntax for linear algebra and functions\n",
    "from numpy.linalg import matrix_power                  # This is to raise matrices to powers\n",
    "import matplotlib.pyplot as plt                        # Plots and figures like you know them from Matlab\n",
    "import seaborn as sns                                  # Make the plots nicer to look at\n",
    "from iminuit import Minuit                             # The actual fitting tool, better than scipy's\n",
    "import sys                                             # Module to see files and folders in directories\n",
    "from scipy import stats\n",
    "import sympy as sp"
   ]
  },
  {
   "attachments": {},
   "cell_type": "markdown",
   "id": "7fc8652f",
   "metadata": {},
   "source": [
    "## 1 - Distributions and Probabilities\n",
    "1.1 - There are 3 White, 6 Black and 7 grey marbles. If two marbles are drawn at random then what is the probability of drawing a white marble?"
   ]
  },
  {
   "cell_type": "code",
   "execution_count": 2,
   "id": "49de2781",
   "metadata": {},
   "outputs": [
    {
     "name": "stdout",
     "output_type": "stream",
     "text": [
      "The probability of getting a white marble within two draws is p = 0.350\n"
     ]
    }
   ],
   "source": [
    "n_white, n_black, n_grey = 3, 6, 7\n",
    "n_tot = n_white + n_black + n_grey\n",
    "\n",
    "# The probability of getting a white marble in the first draw is p = 3/16\n",
    "#If non white is drawn (p=13/16) then there are 15 balls left and therefore \n",
    "#the probability of getting a white marble in the second draw is p = 3/15. \n",
    "p_white_of2 = 3/16 + 13/16*3/15\n",
    "print(f'The probability of getting a white marble within two draws is p = {p_white_of2:.3f}')"
   ]
  },
  {
   "attachments": {},
   "cell_type": "markdown",
   "id": "b4e3c6be",
   "metadata": {},
   "source": [
    "# Måske lave lige noget z-værdi afhængig af svar fra troels"
   ]
  },
  {
   "cell_type": "code",
   "execution_count": 3,
   "id": "33ea0534",
   "metadata": {},
   "outputs": [
    {
     "name": "stdout",
     "output_type": "stream",
     "text": [
      "The probability of drawing 18 grey marbles in 25 draws is p = 0.0030\n",
      "The probability of drawing at least 18 grey marbles in 25 draws is p = 0.0040\n"
     ]
    }
   ],
   "source": [
    "# Since there are N trials with p chance of succes we can use the binomial distribution\n",
    "#What is the probability of drawing 18 grey marbles in 25 draws?\n",
    "p_grey18 = stats.binom.pmf(18, 25, 7/16)\n",
    "print(f'The probability of drawing 18 grey marbles in 25 draws is p = {p_grey18:.4f}')\n",
    "p_gover18 = stats.binom.sf(17, 25, 7/16)\n",
    "print(f'The probability of drawing at least 18 grey marbles in 25 draws is p = {p_gover18:.4f}')"
   ]
  },
  {
   "attachments": {},
   "cell_type": "markdown",
   "id": "ea8184d1",
   "metadata": {},
   "source": [
    "If my friend drew 18 grey marbles from 25 attempts I wouldn't immediately trust him since the probability of doing so is $0.3\\%$. It's possible that they were lucky but it is improbable."
   ]
  },
  {
   "attachments": {},
   "cell_type": "markdown",
   "id": "b84b48f4",
   "metadata": {},
   "source": [
    "1.2 - A component has a lifetime which is exponentially distributed: $L(t) = \\frac{1}{\\tau}e^{-\\frac{t}{\\tau}}$. There is 4% chance of the component failing after 500 hours. What is the value of $\\tau$?"
   ]
  },
  {
   "cell_type": "code",
   "execution_count": null,
   "id": "9f8ddf1c",
   "metadata": {},
   "outputs": [],
   "source": []
  },
  {
   "cell_type": "code",
   "execution_count": 4,
   "id": "8942722c",
   "metadata": {},
   "outputs": [
    {
     "name": "stdout",
     "output_type": "stream",
     "text": [
      "The half-life is 155.3 hours\n"
     ]
    }
   ],
   "source": [
    "t, tau = sp.symbols('t tau')\n",
    "L = 1/tau*sp.exp(-t/tau)\n",
    "p_L = sp.integrate(L, (t, 500, sp.oo), conds='none')\n",
    "tau = sp.solve(p_L - 0.04, tau)\n",
    "print(fr'The half-life is {tau[0]:.1f} hours')"
   ]
  },
  {
   "cell_type": "code",
   "execution_count": 5,
   "id": "a1eb657d",
   "metadata": {},
   "outputs": [
    {
     "name": "stdout",
     "output_type": "stream",
     "text": [
      "exp(-500/tau)\n",
      "-3.2188758248682006\n",
      "155.33373363990296\n"
     ]
    }
   ],
   "source": [
    "p_L = sp.integrate(L, (t, 500, sp.oo), conds='none')\n",
    "print(p_L)\n",
    "print(np.log(0.04))\n",
    "print(-500/np.log(0.04))"
   ]
  },
  {
   "attachments": {},
   "cell_type": "markdown",
   "id": "9e172adf",
   "metadata": {},
   "source": [
    "1.3 - A Telescope detects 241089 signals/day based on 9 weeks of observation."
   ]
  },
  {
   "cell_type": "code",
   "execution_count": 13,
   "id": "c82377f7",
   "metadata": {},
   "outputs": [
    {
     "name": "stdout",
     "output_type": "stream",
     "text": [
      "The mean detections per hour is r = 10045.375\n",
      "The probability of observing 9487 signals in one hour is p = 5.548586798118932e-10\n"
     ]
    },
    {
     "data": {
      "text/plain": [
       "1802260713.1946056"
      ]
     },
     "execution_count": 13,
     "metadata": {},
     "output_type": "execute_result"
    }
   ],
   "source": [
    "#In one hour it observes 9487 signals. What is the probability of observing 9487 signals in one hour?\n",
    "#The detections are discrete data points in a continuum so detections should be Poisson distributed.\n",
    "#The mean detections per hour is \n",
    "r=241089/24\n",
    "r_o = 9487\n",
    "print(f'The mean detections per hour is r = {r}')\n",
    "p_9487 = stats.poisson.pmf(r_o,r)\n",
    "print(f'The probability of observing {r_o} signals in one hour is p = {p_9487}')\n",
    "1/p_9487"
   ]
  },
  {
   "cell_type": "code",
   "execution_count": null,
   "id": "aed011fd",
   "metadata": {},
   "outputs": [],
   "source": []
  },
  {
   "cell_type": "code",
   "execution_count": 7,
   "id": "519d3af8",
   "metadata": {},
   "outputs": [
    {
     "data": {
      "text/plain": [
       "[<matplotlib.lines.Line2D at 0x1c5a342b550>]"
      ]
     },
     "execution_count": 7,
     "metadata": {},
     "output_type": "execute_result"
    },
    {
     "data": {
      "image/png": "[encoded data removed]",
      "text/plain": [
       "<Figure size 432x288 with 1 Axes>"
      ]
     },
     "metadata": {
      "needs_background": "light"
     },
     "output_type": "display_data"
    }
   ],
   "source": [
    "linspace = np.arange(9400, 11000, 1)\n",
    "plt.plot(linspace, stats.poisson.pmf(linspace, r))"
   ]
  },
  {
   "cell_type": "code",
   "execution_count": 8,
   "id": "9b9291f8",
   "metadata": {},
   "outputs": [
    {
     "name": "stdout",
     "output_type": "stream",
     "text": [
      "0.0\n",
      "The z-score is z = -5.571124816057189\n"
     ]
    }
   ],
   "source": [
    "#Since detections are poission distributed then the std deviation is sqrt(r)\n",
    "z=(r_o-r)/(np.sqrt(r))\n",
    "z_sf = 2*stats.norm.sf(r,loc=9487) \n",
    "print(z_sf)\n",
    "print(f'The z-score is z = {z}')"
   ]
  },
  {
   "attachments": {},
   "cell_type": "markdown",
   "id": "6dac5122",
   "metadata": {},
   "source": [
    "This is a very extraordinary measurement, since the probability is $5.5*10^{-10}$."
   ]
  },
  {
   "attachments": {},
   "cell_type": "markdown",
   "id": "420fa96a",
   "metadata": {},
   "source": [
    "1.4 - Shooting with a bow, you have 3% chance of hitting a certain target.\n",
    "\n",
    "Since there are 2 outcomes either hit or miss then it follows a binomial distribution."
   ]
  },
  {
   "cell_type": "markdown",
   "id": "17b5bde6",
   "metadata": {},
   "source": []
  },
  {
   "cell_type": "code",
   "execution_count": 9,
   "id": "9500cefc",
   "metadata": {},
   "outputs": [
    {
     "name": "stdout",
     "output_type": "stream",
     "text": [
      "The probability of observing 1 hit in 20 shots is p = 0.5438\n",
      "0.543794342926747\n"
     ]
    }
   ],
   "source": [
    "p1oo20 = (0.97)**20\n",
    "print(f'The probability of observing 1 hit in 20 shots is p = {p1oo20:.4f}')\n",
    "psym = sp.symbols('p')\n",
    "p1oo20sym = 0.03*sp.Sum((1-0.03)**psym, (psym, 20, sp.oo)).doit()\n",
    "print(p1oo20sym)"
   ]
  },
  {
   "cell_type": "code",
   "execution_count": 10,
   "id": "9b46670a",
   "metadata": {},
   "outputs": [],
   "source": [
    "def binomial(n, k, p):\n",
    "    '''Returns the probability of k successes in n trials with probability p of success'''\n",
    "    \n",
    "    return stats.binom.pmf(k, n, p)"
   ]
  },
  {
   "cell_type": "code",
   "execution_count": 11,
   "id": "9d9144a3",
   "metadata": {},
   "outputs": [
    {
     "name": "stdout",
     "output_type": "stream",
     "text": [
      "The probability of observing 100 hits in 4000 shots is p = 0.0065\n"
     ]
    }
   ],
   "source": [
    "p100oo4000 = binomial(4000,100,0.03)\n",
    "print(f'The probability of observing 100 hits in 4000 shots is p = {p100oo4000:.4f}')"
   ]
  },
  {
   "cell_type": "code",
   "execution_count": 12,
   "metadata": {},
   "outputs": [],
   "source": [
    "r = np.random # Random generator\n",
    "r.seed(42)    # Set a random seed (but a fixed one)"
   ]
  },
  {
   "cell_type": "code",
   "execution_count": null,
   "id": "4d88b4d9",
   "metadata": {},
   "outputs": [],
   "source": []
  }
 ],
 "metadata": {
  "kernelspec": {
   "display_name": "base",
   "language": "python",
   "name": "python3"
  },
  "language_info": {
   "codemirror_mode": {
    "name": "ipython",
    "version": 3
   },
   "file_extension": ".py",
   "mimetype": "text/x-python",
   "name": "python",
   "nbconvert_exporter": "python",
   "pygments_lexer": "ipython3",
   "version": "3.8.3"
  },
  "vscode": {
   "interpreter": {
    "hash": "86375d64dae07698351ac76e569087e6053bcbeab2bf9c1ac0b19c9728c81fbe"
   }
  }
 },
 "nbformat": 4,
 "nbformat_minor": 5
}
