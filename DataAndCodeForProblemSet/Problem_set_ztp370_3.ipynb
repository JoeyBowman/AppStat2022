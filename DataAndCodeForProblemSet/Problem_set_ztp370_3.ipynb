{
 "cells": [
  {
   "attachments": {},
   "cell_type": "markdown",
   "id": "cd2f6eea",
   "metadata": {},
   "source": [
    "# Problem set ztp370 - AppStat 2022/2023\n",
    "\n",
    "\n",
    "\n",
    "\n",
    "### Author: \n",
    "- Eric Steen Ravn Bowman\n",
    "\n",
    "### Date:    \n",
    "- 03-01-2023 \n",
    "\n",
    "***"
   ]
  },
  {
   "cell_type": "markdown",
   "metadata": {},
   "source": [
    "As always we will include a collection of libraries (Standard)"
   ]
  },
  {
   "cell_type": "code",
   "execution_count": 546,
   "metadata": {},
   "outputs": [],
   "source": [
    "import numpy as np                                     # Matlab like syntax for linear algebra and functions\n",
    "from numpy.linalg import matrix_power                  # This is to raise matrices to powers\n",
    "import matplotlib.pyplot as plt                        # Plots and figures like you know them from Matlab\n",
    "import seaborn as sns                                  # Make the plots nicer to look at\n",
    "from iminuit import Minuit                             # The actual fitting tool, better than scipy's\n",
    "import sys                                             # Module to see files and folders in directories\n",
    "from scipy import stats\n",
    "import sympy as sp\n",
    "sys.path.append('../External_Functions')\n",
    "from ExternalFunctions import UnbinnedLH, BinnedLH, Chi2Regression\n",
    "from ExternalFunctions import nice_string_output, add_text_to_ax    # Useful functions to print fit results on figure"
   ]
  },
  {
   "cell_type": "code",
   "execution_count": 532,
   "id": "d4bcb0c6",
   "metadata": {},
   "outputs": [],
   "source": [
    "r = np.random\n",
    "r.seed(42)"
   ]
  },
  {
   "attachments": {},
   "cell_type": "markdown",
   "id": "7fc8652f",
   "metadata": {},
   "source": [
    "## 3 - Simulation / Monte Carlo\n",
    "3.1 -  $f(x) = C\\cdot x^a\\cdot sin(\\pi x)$ for $x\\in[0,1]$ and $a=3$.\n",
    " "
   ]
  },
  {
   "cell_type": "code",
   "execution_count": 533,
   "id": "64ba7171",
   "metadata": {},
   "outputs": [
    {
     "data": {
      "text/plain": [
       "[<matplotlib.lines.Line2D at 0x1a974bd2ca0>]"
      ]
     },
     "execution_count": 533,
     "metadata": {},
     "output_type": "execute_result"
    },
    {
     "data": {
      "image/png": "[encoded data removed]",
      "text/plain": [
       "<Figure size 432x288 with 1 Axes>"
      ]
     },
     "metadata": {
      "needs_background": "light"
     },
     "output_type": "display_data"
    }
   ],
   "source": [
    "Npoints = 16200\n",
    "Nbins = 100\n",
    "linspace = np.linspace(0,1,Npoints)\n",
    "\n",
    "\n",
    "def functi(x,C=1,a=3):\n",
    "    return C*x**a*np.sin(np.pi*x)\n",
    "\n",
    "plt.plot(linspace,functi(linspace))\n",
    "func = functi(linspace,np.pi**3/(np.pi**2-6))\n",
    "plt.plot(linspace,func,c='r')\n",
    "# plt.plot(linspace,functi(linspace,np.pi**3/(np.pi**2-6),a=6.92))"
   ]
  },
  {
   "cell_type": "code",
   "execution_count": 534,
   "id": "63eddd74",
   "metadata": {},
   "outputs": [
    {
     "name": "stdout",
     "output_type": "stream",
     "text": [
      "8.012776880130442\n"
     ]
    }
   ],
   "source": [
    "# Which method(s) would I use to generate numbers according to the function?\n",
    "# I since there are particalur limits then I will try to use the accept reject method\n",
    "\n",
    "xmin, xmax = 0, 1\n",
    "ymin, ymax = 0, 2.5\n",
    "Ctrue=np.pi**3/(np.pi**2-6)\n",
    "print(Ctrue)\n",
    "bin_width = (xmax-xmin)/Nbins\n",
    "\n",
    "\n",
    "xes = np.linspace(xmin, xmax, Npoints)"
   ]
  },
  {
   "cell_type": "code",
   "execution_count": 535,
   "id": "31829f00",
   "metadata": {},
   "outputs": [],
   "source": [
    "def function(x,a=3,C=Ctrue):\n",
    "    return bin_width*Npoints*C*x**a*np.sin(np.pi*x)"
   ]
  },
  {
   "cell_type": "code",
   "execution_count": 536,
   "id": "1bd1d808",
   "metadata": {},
   "outputs": [],
   "source": [
    "f = np.zeros(Npoints)\n",
    "Ntry=0\n",
    "for i in range(Npoints):\n",
    "    while True:\n",
    "        Ntry += 1\n",
    "        x = r.uniform(xmin, xmax)  \n",
    "        y = r.uniform(ymin, ymax)        \n",
    "        if (y < Ctrue*x**3*np.sin(np.pi*x)) :   # If the (x,y)-point fulfills the accept condition...\n",
    "            break \n",
    "    f[i] = x"
   ]
  },
  {
   "cell_type": "code",
   "execution_count": 537,
   "id": "e9e4e8be",
   "metadata": {},
   "outputs": [
    {
     "name": "stdout",
     "output_type": "stream",
     "text": [
      "The efficiency of the simulation is 0.3989\n",
      "The error on the efficiency is 0.002\n"
     ]
    }
   ],
   "source": [
    "eff = Npoints/Ntry\n",
    "print(f'The efficiency of the simulation is {eff:.4f}')\n",
    "eff_error = np.sqrt((eff * (1-eff)) / Ntry)    # Error on efficiency (binomial)\n",
    "print(f'The error on the efficiency is {eff_error:.3f}')\n"
   ]
  },
  {
   "cell_type": "code",
   "execution_count": 538,
   "id": "1715afff",
   "metadata": {},
   "outputs": [
    {
     "data": {
      "image/png": "[encoded data removed]",
      "text/plain": [
       "<Figure size 432x288 with 1 Axes>"
      ]
     },
     "metadata": {
      "needs_background": "light"
     },
     "output_type": "display_data"
    }
   ],
   "source": [
    "count,bins,_ = plt.hist(f, bins=Nbins, range=(xmin, xmax), histtype='step', label='Data')\n",
    "mask = count > 0\n",
    "count = count[mask]\n",
    "error_count = np.sqrt(count)\n",
    "center_bins = (bins[:-1] + bins[1:]) / 2\n",
    "center_bins = center_bins[mask]"
   ]
  },
  {
   "cell_type": "code",
   "execution_count": 539,
   "id": "3cade24c",
   "metadata": {},
   "outputs": [
    {
     "data": {
      "text/html": [
       "<table>\n",
       "    <tr>\n",
       "        <th colspan=\"5\" style=\"text-align:center\" title=\"Minimizer\"> Migrad </th>\n",
       "    </tr>\n",
       "    <tr>\n",
       "        <td colspan=\"2\" style=\"text-align:left\" title=\"Minimum value of function\"> FCN = 73.73 </td>\n",
       "        <td colspan=\"3\" style=\"text-align:center\" title=\"Total number of function and (optional) gradient evaluations\"> Nfcn = 44 </td>\n",
       "    </tr>\n",
       "    <tr>\n",
       "        <td colspan=\"2\" style=\"text-align:left\" title=\"Estimated distance to minimum and goal\"> EDM = 8.71e-07 (Goal: 0.0002) </td>\n",
       "        <td colspan=\"3\" style=\"text-align:center\" title=\"Total run time of algorithms\">  </td>\n",
       "    </tr>\n",
       "    <tr>\n",
       "        <td colspan=\"2\" style=\"text-align:center;background-color:#92CCA6;color:black\"> Valid Minimum </td>\n",
       "        <td colspan=\"3\" style=\"text-align:center;background-color:#92CCA6;color:black\"> No Parameters at limit </td>\n",
       "    </tr>\n",
       "    <tr>\n",
       "        <td colspan=\"2\" style=\"text-align:center;background-color:#92CCA6;color:black\"> Below EDM threshold (goal x 10) </td>\n",
       "        <td colspan=\"3\" style=\"text-align:center;background-color:#92CCA6;color:black\"> Below call limit </td>\n",
       "    </tr>\n",
       "    <tr>\n",
       "        <td style=\"text-align:center;background-color:#92CCA6;color:black\"> Covariance </td>\n",
       "        <td style=\"text-align:center;background-color:#92CCA6;color:black\"> Hesse ok </td>\n",
       "        <td style=\"text-align:center;background-color:#92CCA6;color:black\" title=\"Is covariance matrix accurate?\"> Accurate </td>\n",
       "        <td style=\"text-align:center;background-color:#92CCA6;color:black\" title=\"Is covariance matrix positive definite?\"> Pos. def. </td>\n",
       "        <td style=\"text-align:center;background-color:#92CCA6;color:black\" title=\"Was positive definiteness enforced by Minuit?\"> Not forced </td>\n",
       "    </tr>\n",
       "</table><table>\n",
       "    <tr>\n",
       "        <td></td>\n",
       "        <th title=\"Variable name\"> Name </th>\n",
       "        <th title=\"Value of parameter\"> Value </th>\n",
       "        <th title=\"Hesse error\"> Hesse Error </th>\n",
       "        <th title=\"Minos lower error\"> Minos Error- </th>\n",
       "        <th title=\"Minos upper error\"> Minos Error+ </th>\n",
       "        <th title=\"Lower limit of the parameter\"> Limit- </th>\n",
       "        <th title=\"Upper limit of the parameter\"> Limit+ </th>\n",
       "        <th title=\"Is the parameter fixed in the fit\"> Fixed </th>\n",
       "    </tr>\n",
       "    <tr>\n",
       "        <th> 0 </th>\n",
       "        <td> a </td>\n",
       "        <td> 3.071 </td>\n",
       "        <td> 0.031 </td>\n",
       "        <td>  </td>\n",
       "        <td>  </td>\n",
       "        <td>  </td>\n",
       "        <td>  </td>\n",
       "        <td>  </td>\n",
       "    </tr>\n",
       "    <tr>\n",
       "        <th> 1 </th>\n",
       "        <td> C </td>\n",
       "        <td> 8.19 </td>\n",
       "        <td> 0.11 </td>\n",
       "        <td>  </td>\n",
       "        <td>  </td>\n",
       "        <td>  </td>\n",
       "        <td>  </td>\n",
       "        <td>  </td>\n",
       "    </tr>\n",
       "</table><table>\n",
       "    <tr>\n",
       "        <td></td>\n",
       "        <th> a </th>\n",
       "        <th> C </th>\n",
       "    </tr>\n",
       "    <tr>\n",
       "        <th> a </th>\n",
       "        <td> 0.000946 </td>\n",
       "        <td style=\"background-color:rgb(250,126,126);color:black\"> 0.00289 <strong>(0.824)</strong> </td>\n",
       "    </tr>\n",
       "    <tr>\n",
       "        <th> C </th>\n",
       "        <td style=\"background-color:rgb(250,126,126);color:black\"> 0.00289 <strong>(0.824)</strong> </td>\n",
       "        <td> 0.013 </td>\n",
       "    </tr>\n",
       "</table>"
      ],
      "text/plain": [
       "┌─────────────────────────────────────────────────────────────────────────┐\n",
       "│                                Migrad                                   │\n",
       "├──────────────────────────────────┬──────────────────────────────────────┤\n",
       "│ FCN = 73.73                      │              Nfcn = 44               │\n",
       "│ EDM = 8.71e-07 (Goal: 0.0002)    │                                      │\n",
       "├──────────────────────────────────┼──────────────────────────────────────┤\n",
       "│          Valid Minimum           │        No Parameters at limit        │\n",
       "├──────────────────────────────────┼──────────────────────────────────────┤\n",
       "│ Below EDM threshold (goal x 10)  │           Below call limit           │\n",
       "├───────────────┬──────────────────┼───────────┬─────────────┬────────────┤\n",
       "│  Covariance   │     Hesse ok     │ Accurate  │  Pos. def.  │ Not forced │\n",
       "└───────────────┴──────────────────┴───────────┴─────────────┴────────────┘\n",
       "┌───┬──────┬───────────┬───────────┬────────────┬────────────┬─────────┬─────────┬───────┐\n",
       "│   │ Name │   Value   │ Hesse Err │ Minos Err- │ Minos Err+ │ Limit-  │ Limit+  │ Fixed │\n",
       "├───┼──────┼───────────┼───────────┼────────────┼────────────┼─────────┼─────────┼───────┤\n",
       "│ 0 │ a    │   3.071   │   0.031   │            │            │         │         │       │\n",
       "│ 1 │ C    │   8.19    │   0.11    │            │            │         │         │       │\n",
       "└───┴──────┴───────────┴───────────┴────────────┴────────────┴─────────┴─────────┴───────┘\n",
       "┌───┬───────────────────┐\n",
       "│   │        a        C │\n",
       "├───┼───────────────────┤\n",
       "│ a │ 0.000946  0.00289 │\n",
       "│ C │  0.00289    0.013 │\n",
       "└───┴───────────────────┘"
      ]
     },
     "execution_count": 539,
     "metadata": {},
     "output_type": "execute_result"
    }
   ],
   "source": [
    "# Fit the simulated data with a the function\n",
    "chi2_bin = Chi2Regression(function,center_bins,count,error_count) # Create the Chi2Regression object\n",
    "chi2_bin.errordef = 1\n",
    "minuit_bin = Minuit(chi2_bin, C=8, a=2.8 ) #   \n",
    "minuit_bin.migrad()          # Perform the actual fit"
   ]
  },
  {
   "cell_type": "code",
   "execution_count": 560,
   "id": "8c833cfc",
   "metadata": {},
   "outputs": [
    {
     "name": "stdout",
     "output_type": "stream",
     "text": [
      "The relative error on a is 1.001%\n",
      "The fitted value of a is 3.071 +- 0.031\n",
      "The fitted value of C is 8.195 +- 0.114\n",
      "0.8035658863027499\n"
     ]
    }
   ],
   "source": [
    "afit= minuit_bin.values['a']\n",
    "# relative error on a\n",
    "aerror = minuit_bin.errors['a']\n",
    "aer_rel = aerror/afit\n",
    "print(f'The relative error on a is {aer_rel*100:.3f}%')\n",
    "Cfit= minuit_bin.values['C']\n",
    "print(f'The fitted value of a is {afit:.3f} +- {minuit_bin.errors[\"a\"]:.3f}')\n",
    "print(f'The fitted value of C is {Cfit:.3f} +- {minuit_bin.errors[\"C\"]:.3f}')\n",
    "\n",
    "#Calculate the chi2\n",
    "chi2 = minuit_bin.fval\n",
    "ndf = len(count) - 2\n",
    "chi2_red = chi2/ndf\n",
    "test = stats.chi2.sf(chi2, ndf)\n",
    "print(f'{test}')\n",
    "\n"
   ]
  },
  {
   "cell_type": "code",
   "execution_count": 545,
   "id": "f8a3ebdf",
   "metadata": {},
   "outputs": [],
   "source": [
    "# be = plt.hist(f, bins=Nbins, range=(xmin,xmax), label='Simulated data')[0];\n",
    "# area = be.sum()/Npoints\n",
    "# print(f'The area under the histogram is {area:.3f}')"
   ]
  },
  {
   "cell_type": "code",
   "execution_count": 575,
   "id": "0ab565df",
   "metadata": {},
   "outputs": [
    {
     "name": "stderr",
     "output_type": "stream",
     "text": [
      "The PostScript backend does not support transparency; partially transparent artists will be rendered opaque.\n",
      "The PostScript backend does not support transparency; partially transparent artists will be rendered opaque.\n"
     ]
    },
    {
     "data": {
      "image/png": "[encoded data removed]",
      "text/plain": [
       "<Figure size 720x360 with 1 Axes>"
      ]
     },
     "metadata": {
      "needs_background": "light"
     },
     "output_type": "display_data"
    }
   ],
   "source": [
    "plt.figure(figsize=(10,5))\n",
    "plt.hist(f, bins=Nbins, range=(xmin,xmax), label='Generated data', color='lightblue');\n",
    "fit = function(xes, afit,Cfit)\n",
    "plt.errorbar(center_bins, count, yerr=error_count, fmt='o', label='Uncertainties',ms=2, c='darkblue');\n",
    "plt.plot(xes, fit, label='Fit', c='k');\n",
    "plt.plot(xes, function(xes), label='True function', c='r');\n",
    "d = {'a':[afit, minuit_bin.errors['a']], 'C':[Cfit, minuit_bin.errors['C']], 'Efficiency':f\"{eff:.3f} +- {eff_error:.1}\",\n",
    "     'Chi2':f\"{chi2:.2f}\",\n",
    "     'Npoints':f\"{Npoints:d}\",\n",
    "     'Ndof':f\"{ndf:d}\",\n",
    "     'Probability':f\"{test:.3f}\",'Relative error on a':f\"{aer_rel*100:.3f}%\"}\n",
    "\n",
    "text = nice_string_output(d, extra_spacing=2, decimals=2)\n",
    "add_text_to_ax(0.02, 0.95, text, ax=plt.gca(), fontsize=12)\n",
    "\n",
    "plt.xlabel('x');\n",
    "plt.ylabel('Counts');\n",
    "\n",
    "\n",
    "plt.legend(loc='lower left');\n",
    "plt.savefig('MC_Generated_Data.eps', bbox_inches='tight')"
   ]
  },
  {
   "cell_type": "code",
   "execution_count": 543,
   "id": "2b6ff977",
   "metadata": {},
   "outputs": [],
   "source": [
    "# Npoints_array = np.array([ 1000, 10000, 100000, 1000000])\n",
    "# f = np.zeros((Npoints,len(Npoints_array)))\n",
    "\n",
    "# Ntrys=np.zeros(len(Npoints_array))\n",
    "# for j in range(len(Npoints_array)):\n",
    "#     for i in range(Npoints):\n",
    "#         while True:\n",
    "#             Ntrys[j] += 1\n",
    "#             x = r.uniform(xmin, xmax)  \n",
    "#             y = r.uniform(ymin, ymax)        \n",
    "#             if (y < Ctrue*x**3*np.sin(np.pi*x)) :   # If the (x,y)-point fulfills the accept condition...\n",
    "#                 break \n",
    "#         f[i][j] = x"
   ]
  },
  {
   "cell_type": "code",
   "execution_count": 544,
   "id": "6dd28959",
   "metadata": {},
   "outputs": [],
   "source": [
    "\n",
    "def get_data(N):\n",
    "    count,bins,_ = plt.hist(f, bins=Nbins, range=(xmin, xmax), histtype='step', label='Data')\n",
    "    mask = count > 0\n",
    "    count = count[mask]\n",
    "    error_count = np.sqrt(count)\n",
    "    center_bins = (bins[:-1] + bins[1:]) / 2\n",
    "    center_bins = center_bins[mask]\n",
    "    return center_bins, count, error_count\n",
    "\n",
    "def fitting(N):\n",
    "    count,bins,_ = plt.hist(f, bins=Nbins, range=(xmin, xmax), histtype='step', label='Data')\n",
    "    mask = count > 0\n",
    "    count = count[mask]\n",
    "    error_count = np.sqrt(count)\n",
    "    center_bins = (bins[:-1] + bins[1:]) / 2\n",
    "    center_bins = center_bins[mask]\n",
    "\n",
    "    # Fit the simulated data with a the function\n",
    "    chi2_bin = Chi2Regression(func,center_bins,count) # Create the Chi2Regression object\n",
    "    chi2_bin.errordef = 1\n",
    "    minuit_bin = Minuit(chi2_bin, C=8, a=2.8 ) #   \n",
    "    minuit_bin.migrad()          # Perform the actual fit\n",
    "    afit= minuit_bin.values['a']\n",
    "    # relative error on a\n",
    "    aerror = minuit_bin.errors['a']\n",
    "    aer_rel = aerror/afit\n",
    "    return aer_rel\n",
    "\n",
    "# for i in range(len(Npoints_array)):\n",
    "#     print(f'round {i+1} of {len(Npoints_array)}')\n",
    "#     print(f'The relative error on a is {fitting(Npoints_array[i])*100:.3f}%')"
   ]
  },
  {
   "cell_type": "code",
   "execution_count": null,
   "id": "560277f4",
   "metadata": {},
   "outputs": [],
   "source": []
  }
 ],
 "metadata": {
  "kernelspec": {
   "display_name": "base",
   "language": "python",
   "name": "python3"
  },
  "language_info": {
   "codemirror_mode": {
    "name": "ipython",
    "version": 3
   },
   "file_extension": ".py",
   "mimetype": "text/x-python",
   "name": "python",
   "nbconvert_exporter": "python",
   "pygments_lexer": "ipython3",
   "version": "3.8.3"
  },
  "vscode": {
   "interpreter": {
    "hash": "86375d64dae07698351ac76e569087e6053bcbeab2bf9c1ac0b19c9728c81fbe"
   }
  }
 },
 "nbformat": 4,
 "nbformat_minor": 5
}
