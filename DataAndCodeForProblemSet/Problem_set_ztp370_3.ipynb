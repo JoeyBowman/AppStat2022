{
 "cells": [
  {
   "attachments": {},
   "cell_type": "markdown",
   "id": "cd2f6eea",
   "metadata": {},
   "source": [
    "# Problem set ztp370 - AppStat 2022/2023\n",
    "\n",
    "\n",
    "\n",
    "\n",
    "### Author: \n",
    "- Eric Steen Ravn Bowman\n",
    "\n",
    "### Date:    \n",
    "- 03-01-2023 \n",
    "\n",
    "***"
   ]
  },
  {
   "cell_type": "markdown",
   "metadata": {},
   "source": [
    "As always we will include a collection of libraries (Standard)"
   ]
  },
  {
   "cell_type": "code",
   "execution_count": 1,
   "metadata": {},
   "outputs": [],
   "source": [
    "import numpy as np                                     # Matlab like syntax for linear algebra and functions\n",
    "from numpy.linalg import matrix_power                  # This is to raise matrices to powers\n",
    "import matplotlib.pyplot as plt                        # Plots and figures like you know them from Matlab\n",
    "import seaborn as sns                                  # Make the plots nicer to look at\n",
    "from iminuit import Minuit                             # The actual fitting tool, better than scipy's\n",
    "import sys                                             # Module to see files and folders in directories\n",
    "from scipy import stats\n",
    "import sympy as sp"
   ]
  },
  {
   "cell_type": "code",
   "execution_count": 2,
   "id": "d4bcb0c6",
   "metadata": {},
   "outputs": [],
   "source": [
    "r = np.random\n",
    "r.seed(42)"
   ]
  },
  {
   "attachments": {},
   "cell_type": "markdown",
   "id": "7fc8652f",
   "metadata": {},
   "source": [
    "## 3 - Simulation / Monte Carlo\n",
    "3.1 -  $f(x) = C\\cdot x^a\\cdot sin(\\pi x)$ for $x\\in[0,1]$ and $a=3$.\n",
    " "
   ]
  },
  {
   "cell_type": "code",
   "execution_count": 3,
   "id": "64ba7171",
   "metadata": {},
   "outputs": [
    {
     "data": {
      "text/plain": [
       "[<matplotlib.lines.Line2D at 0x1fee141d100>]"
      ]
     },
     "execution_count": 3,
     "metadata": {},
     "output_type": "execute_result"
    },
    {
     "data": {
      "image/png": "[encoded data removed]",
      "text/plain": [
       "<Figure size 432x288 with 1 Axes>"
      ]
     },
     "metadata": {
      "needs_background": "light"
     },
     "output_type": "display_data"
    }
   ],
   "source": [
    "Npoints = 10000\n",
    "Nbins = 100\n",
    "linspace = np.linspace(0,1,Npoints)\n",
    "def f(x,C=1,a=3):\n",
    "    return C*x**a*np.sin(np.pi*x)\n",
    "plt.plot(linspace,f(linspace))\n",
    "\n",
    "plt.plot(linspace,f(linspace,np.pi**3/(np.pi**2-6)))"
   ]
  },
  {
   "cell_type": "code",
   "execution_count": 4,
   "id": "63eddd74",
   "metadata": {},
   "outputs": [],
   "source": [
    "# Which method(s) would I use to generate numbers according to the function?\n",
    "# I since there are particalur limits then I will try to use the accept reject method\n",
    "\n",
    "xmin, xmax = 0, 1\n",
    "ymin, ymax = 0, 2.5"
   ]
  },
  {
   "cell_type": "code",
   "execution_count": 5,
   "id": "1bd1d808",
   "metadata": {},
   "outputs": [],
   "source": [
    "f = np.zeros(Npoints)\n",
    "Ntry=0\n",
    "for i in range(Npoints):\n",
    "    while True:\n",
    "        Ntry += 1\n",
    "        x = r.uniform(xmin, xmax)  \n",
    "        y = r.uniform(ymin, ymax)        \n",
    "        if (y < np.pi**3/(np.pi**2-6)*x**3*np.sin(np.pi*x)) :   # If the (x,y)-point fulfills the accept condition...\n",
    "            break \n",
    "    f[i] = x"
   ]
  },
  {
   "cell_type": "code",
   "execution_count": 6,
   "id": "e9e4e8be",
   "metadata": {},
   "outputs": [
    {
     "name": "stdout",
     "output_type": "stream",
     "text": [
      "The efficiency of the simulation is 0.3983\n",
      "The error on the efficiency is 0.003\n"
     ]
    }
   ],
   "source": [
    "eff = Npoints/Ntry\n",
    "print(f'The efficiency of the simulation is {eff:.4f}')\n",
    "eff_error = np.sqrt((eff * (1-eff)) / Ntry)    # Error on efficiency (binomial)\n",
    "print(f'The error on the efficiency is {eff_error:.3f}')\n"
   ]
  },
  {
   "cell_type": "code",
   "execution_count": 7,
   "id": "0ab565df",
   "metadata": {},
   "outputs": [],
   "source": [
    "# Update python to 3.8.5 \n",
    "# Update numpy to 1.19.1\n",
    "# !conda upgrade sympy"
   ]
  },
  {
   "cell_type": "code",
   "execution_count": null,
   "id": "2b6ff977",
   "metadata": {},
   "outputs": [],
   "source": []
  }
 ],
 "metadata": {
  "kernelspec": {
   "display_name": "base",
   "language": "python",
   "name": "python3"
  },
  "language_info": {
   "codemirror_mode": {
    "name": "ipython",
    "version": 3
   },
   "file_extension": ".py",
   "mimetype": "text/x-python",
   "name": "python",
   "nbconvert_exporter": "python",
   "pygments_lexer": "ipython3",
   "version": "3.8.3 (default, Jul  2 2020, 17:30:36) [MSC v.1916 64 bit (AMD64)]"
  },
  "vscode": {
   "interpreter": {
    "hash": "86375d64dae07698351ac76e569087e6053bcbeab2bf9c1ac0b19c9728c81fbe"
   }
  }
 },
 "nbformat": 4,
 "nbformat_minor": 5
}
