{
 "cells": [
  {
   "attachments": {},
   "cell_type": "markdown",
   "id": "cd2f6eea",
   "metadata": {},
   "source": [
    "# Problem set ztp370 - AppStat 2022/2023\n",
    "\n",
    "\n",
    "\n",
    "\n",
    "### Author: \n",
    "- Eric Steen Ravn Bowman\n",
    "\n",
    "### Date:    \n",
    "- 03-01-2023 \n",
    "\n",
    "***"
   ]
  },
  {
   "cell_type": "markdown",
   "metadata": {},
   "source": [
    "As always we will include a collection of libraries (Standard)"
   ]
  },
  {
   "cell_type": "code",
   "execution_count": 1,
   "metadata": {},
   "outputs": [],
   "source": [
    "import numpy as np                                     # Matlab like syntax for linear algebra and functions\n",
    "from numpy.linalg import matrix_power                  # This is to raise matrices to powers\n",
    "import matplotlib.pyplot as plt                        # Plots and figures like you know them from Matlab\n",
    "import seaborn as sns                                  # Make the plots nicer to look at\n",
    "from iminuit import Minuit                             # The actual fitting tool, better than scipy's\n",
    "import sys                                             # Module to see files and folders in directories\n",
    "from scipy import stats\n",
    "import sympy as sp"
   ]
  },
  {
   "attachments": {},
   "cell_type": "markdown",
   "id": "7fc8652f",
   "metadata": {},
   "source": [
    "## 2 - Error Propagation\n",
    "2.1 - "
   ]
  },
  {
   "cell_type": "code",
   "execution_count": 2,
   "id": "ba3ec782",
   "metadata": {},
   "outputs": [
    {
     "name": "stdout",
     "output_type": "stream",
     "text": [
      "The uncertainty of z1 is 1.61 +- 0.8 and the uncertainty of z2 is -0.21 +- 0.28\n"
     ]
    }
   ],
   "source": [
    "x, xsig, y, ysig = 1.92, 0.39, 3.1, 1.3\n",
    "z1 = y/x\n",
    "z2 = np.cos(x)*x/y\n",
    "z1_sig = np.sqrt((ysig/x)**2 + (y*xsig/x**2)**2)\n",
    "z2_sig = np.sqrt((np.cos(x)*x*ysig/y**2)**2+((-np.sin(x)*x/y+np.cos(x)/y)*xsig)**2)\n",
    "\n",
    "print(f'The uncertainty of z1 is {z1:.2f} +- {z1_sig:.1f} and the uncertainty of z2 is {z2:.2f} +- {z2_sig:.2f}')"
   ]
  },
  {
   "cell_type": "code",
   "execution_count": 3,
   "id": "230be98d",
   "metadata": {},
   "outputs": [
    {
     "name": "stdout",
     "output_type": "stream",
     "text": [
      "The uncertainty of z1 if x and y are correlated by rho = 0.95 is 1.615 +- 1.174 \n"
     ]
    }
   ],
   "source": [
    "z1_sig_corr = np.sqrt((ysig/x)**2 + (y*xsig/x**2)**2) + 2*(ysig/x)*(y*xsig/x**2)*0.95\n",
    "print(f'The uncertainty of z1 if x and y are correlated by rho = 0.95 is {z1:.3f} +- {z1_sig_corr:.3f} ')"
   ]
  },
  {
   "cell_type": "code",
   "execution_count": 4,
   "id": "4d88b4d9",
   "metadata": {},
   "outputs": [
    {
     "name": "stdout",
     "output_type": "stream",
     "text": [
      "Pearsons correlation coefficient is 0.78\n"
     ]
    }
   ],
   "source": [
    "sigrho = np.sqrt(1/2*(1/0.95**2)**2)\n",
    "print(f'Pearsons correlation coefficient is {sigrho:.2f}')"
   ]
  },
  {
   "attachments": {},
   "cell_type": "markdown",
   "id": "e79a8c81",
   "metadata": {},
   "source": [
    "2.1.3 - Error contributions"
   ]
  },
  {
   "cell_type": "code",
   "execution_count": 5,
   "id": "a1adbd41",
   "metadata": {},
   "outputs": [
    {
     "name": "stdout",
     "output_type": "stream",
     "text": [
      "The contribution of x to the uncertainty of z1 is 0.11 and the contribution of y is 0.46\n"
     ]
    }
   ],
   "source": [
    "z1_xcont = (y*xsig/x**2)**2\n",
    "z1_ycont = (ysig/x)**2\n",
    "print(f'The contribution of x to the uncertainty of z1 is {z1_xcont:.2f} and the contribution of y is {z1_ycont:.2f}')"
   ]
  },
  {
   "attachments": {},
   "cell_type": "markdown",
   "id": "3d31163e",
   "metadata": {},
   "source": [
    "So for the uncorrelated variables then y contributes more to the error than x."
   ]
  },
  {
   "attachments": {},
   "cell_type": "markdown",
   "id": "0a9eac78",
   "metadata": {},
   "source": [
    "## 2.2 - Sleeping patients\n",
    "\n",
    "2.2.1 - Estimate the mean, standard deviation and the uncertainty of the mean.\n"
   ]
  },
  {
   "cell_type": "code",
   "execution_count": 6,
   "id": "e4ed461d",
   "metadata": {},
   "outputs": [
    {
     "name": "stdout",
     "output_type": "stream",
     "text": [
      "The mean of the test group is 0.76 +- 0.82 and the mean of the placebo group is 0.08 +- 0.45\n"
     ]
    }
   ],
   "source": [
    "Test, Placebo = np.array([3.7,-1.2,-0.2,0.7,0.8]), np.array([1.5,-1.0,-0.7,0.5,0.1])\n",
    "Test_mean, Placebo_mean = np.mean(Test), np.mean(Placebo)\n",
    "Test_std, Placebo_std = np.std(Test,ddof = 1), np.std(Placebo, ddof =1)\n",
    "Test_mean_err, Placebo_mean_err = Test_std/np.sqrt(len(Test)), Placebo_std/np.sqrt(len(Placebo))\n",
    "\n",
    "print(f'The mean of the test group is {Test_mean:.2f} +- {Test_mean_err:.2f} and the mean of the placebo group is {Placebo_mean:.2f} +- {Placebo_mean_err:.2f}')\n"
   ]
  },
  {
   "attachments": {},
   "cell_type": "markdown",
   "id": "376b07ee",
   "metadata": {},
   "source": [
    "2.2.2 - What is the probability that the test group slept longer than the placebo group?"
   ]
  },
  {
   "cell_type": "code",
   "execution_count": 11,
   "id": "cfc5fcdd",
   "metadata": {},
   "outputs": [
    {
     "name": "stdout",
     "output_type": "stream",
     "text": [
      "The scipy version is 1.6.1.\n",
      "^C\n"
     ]
    }
   ],
   "source": []
  },
  {
   "cell_type": "code",
   "execution_count": 8,
   "id": "9b2b2724",
   "metadata": {},
   "outputs": [
    {
     "name": "stdout",
     "output_type": "stream",
     "text": [
      "The probability that the test group slept longer than the placebo group is 0.24\n"
     ]
    }
   ],
   "source": [
    "# The probability that the test group slept longer than the placebo group\n",
    "p = stats.ttest_ind(Test, Placebo, alternative= 'greater')\n",
    "print(f'The probability that the test group slept longer than the placebo group is {p.pvalue:.2f}')"
   ]
  },
  {
   "cell_type": "code",
   "execution_count": null,
   "id": "cc4dc7db",
   "metadata": {},
   "outputs": [],
   "source": []
  }
 ],
 "metadata": {
  "kernelspec": {
   "display_name": "base",
   "language": "python",
   "name": "python3"
  },
  "language_info": {
   "codemirror_mode": {
    "name": "ipython",
    "version": 3
   },
   "file_extension": ".py",
   "mimetype": "text/x-python",
   "name": "python",
   "nbconvert_exporter": "python",
   "pygments_lexer": "ipython3",
   "version": "3.8.3"
  },
  "vscode": {
   "interpreter": {
    "hash": "86375d64dae07698351ac76e569087e6053bcbeab2bf9c1ac0b19c9728c81fbe"
   }
  }
 },
 "nbformat": 4,
 "nbformat_minor": 5
}
