{
 "cells": [
  {
   "attachments": {},
   "cell_type": "markdown",
   "id": "cd2f6eea",
   "metadata": {},
   "source": [
    "# Problem set ztp370 - AppStat 2022/2023\n",
    "\n",
    "\n",
    "\n",
    "\n",
    "### Author: \n",
    "- Eric Steen Ravn Bowman\n",
    "\n",
    "### Date:    \n",
    "- 03-01-2023 \n",
    "\n",
    "***"
   ]
  },
  {
   "cell_type": "markdown",
   "metadata": {},
   "source": [
    "As always we will include a collection of libraries (Standard)"
   ]
  },
  {
   "cell_type": "code",
   "execution_count": 11,
   "metadata": {},
   "outputs": [],
   "source": [
    "import numpy as np                                     # Matlab like syntax for linear algebra and functions\n",
    "from numpy.linalg import matrix_power                  # This is to raise matrices to powers\n",
    "import matplotlib.pyplot as plt                        # Plots and figures like you know them from Matlab\n",
    "import seaborn as sns                                  # Make the plots nicer to look at\n",
    "from iminuit import Minuit                             # The actual fitting tool, better than scipy's\n",
    "import sys                                             # Module to see files and folders in directories\n",
    "from scipy import stats\n",
    "import sympy as sp"
   ]
  },
  {
   "attachments": {},
   "cell_type": "markdown",
   "id": "7fc8652f",
   "metadata": {},
   "source": [
    "## 1 - Distributions and Probabilities\n",
    "1.1 - There are 3 White, 6 Black and 7 grey marbles. If two marbles are drawn at random then what is the probability of drawing a white marble?"
   ]
  },
  {
   "cell_type": "code",
   "execution_count": 2,
   "id": "49de2781",
   "metadata": {},
   "outputs": [
    {
     "name": "stdout",
     "output_type": "stream",
     "text": [
      "The probability of getting a white marble within two draws is p = 0.350\n"
     ]
    }
   ],
   "source": [
    "n_white, n_black, n_grey = 3, 6, 7\n",
    "n_tot = n_white + n_black + n_grey\n",
    "\n",
    "# The probability of getting a white marble in the first draw is p = 3/16\n",
    "#If non white is drawn (p=13/16) then there are 15 balls left and therefore \n",
    "#the probability of getting a white marble in the second draw is p = 3/15. \n",
    "p_white_of2 = 3/16 + 13/16*3/15\n",
    "print(f'The probability of getting a white marble within two draws is p = {p_white_of2:.3f}')"
   ]
  },
  {
   "attachments": {},
   "cell_type": "markdown",
   "id": "b4e3c6be",
   "metadata": {},
   "source": [
    "# Måske lave lige noget z-værdi afhængig af svar fra troels"
   ]
  },
  {
   "cell_type": "code",
   "execution_count": 10,
   "id": "33ea0534",
   "metadata": {},
   "outputs": [
    {
     "name": "stdout",
     "output_type": "stream",
     "text": [
      "The probability of drawing 18 grey marbles in 25 draws is p = 0.003\n",
      "The probability of drawing at least 18 grey marbles in 25 draws is p = 0.004\n"
     ]
    }
   ],
   "source": [
    "# Since there are N trials with p chance of succes we can use the binomial distribution\n",
    "#What is the probability of drawing 18 grey marbles in 25 draws?\n",
    "p_grey18 = stats.binom.pmf(18, 25, 7/16)\n",
    "print(f'The probability of drawing 18 grey marbles in 25 draws is p = {p_grey18:.3f}')\n",
    "p_gover18 = stats.binom.sf(17, 25, 7/16)\n",
    "print(f'The probability of drawing at least 18 grey marbles in 25 draws is p = {p_gover18:.3f}')"
   ]
  },
  {
   "attachments": {},
   "cell_type": "markdown",
   "id": "ea8184d1",
   "metadata": {},
   "source": [
    "If my friend drew 18 grey marbles from 25 attempts I wouldn't immediately trust him since the probability of doing so is $0.3\\%$. It's possible that they were lucky but it is improbable."
   ]
  },
  {
   "attachments": {},
   "cell_type": "markdown",
   "id": "b84b48f4",
   "metadata": {},
   "source": [
    "1.2 - A component has a lifetime which is exponentially distributed: $L(t) = \\frac{1}{\\tau}e^{-\\frac{t}{\\tau}}$. There is 4% chance of the component failing after 500 hours. What is the value of $\\tau$?"
   ]
  },
  {
   "cell_type": "code",
   "execution_count": null,
   "id": "9f8ddf1c",
   "metadata": {},
   "outputs": [],
   "source": []
  },
  {
   "cell_type": "code",
   "execution_count": 39,
   "id": "8942722c",
   "metadata": {},
   "outputs": [
    {
     "name": "stdout",
     "output_type": "stream",
     "text": [
      "The half-life is 155 hours\n"
     ]
    }
   ],
   "source": [
    "t, tau = sp.symbols('t tau')\n",
    "L = 1/tau*sp.exp(-t/tau)\n",
    "p_L = sp.integrate(L, (t, 500, sp.oo), conds='none')\n",
    "tau = sp.solve(p_L - 0.04, tau)\n",
    "print(fr'The half-life is {tau[0]:.0f} hours')"
   ]
  },
  {
   "cell_type": "code",
   "execution_count": 33,
   "id": "a1eb657d",
   "metadata": {},
   "outputs": [
    {
     "name": "stdout",
     "output_type": "stream",
     "text": [
      "exp(-500/tau)\n",
      "-3.2188758248682006\n",
      "155.33373363990296\n"
     ]
    }
   ],
   "source": [
    "p_L = sp.integrate(L, (t, 500, sp.oo), conds='none')\n",
    "print(p_L)\n",
    "print(np.log(0.04))\n",
    "print(-500/np.log(0.04))"
   ]
  },
  {
   "attachments": {},
   "cell_type": "markdown",
   "id": "9e172adf",
   "metadata": {},
   "source": [
    "1.3 - A Telescope detects 241089 signals/day based on 9 weeks of observation."
   ]
  },
  {
   "cell_type": "code",
   "execution_count": 55,
   "id": "c82377f7",
   "metadata": {},
   "outputs": [
    {
     "name": "stdout",
     "output_type": "stream",
     "text": [
      "The mean detections per hour is r = 10045.375\n",
      "The probability of observing 9487 signals in one hour is p = 5.548586798118932e-10\n"
     ]
    }
   ],
   "source": [
    "#In one hour it observes 9487 signals. What is the probability of observing 9487 signals in one hour?\n",
    "#The detections are discrete data points in a continuum so detections should be Poisson distributed.\n",
    "#The mean detections per hour is \n",
    "r_h = 241089/24\n",
    "print(f'The mean detections per hour is r = {r_h}')\n",
    "p_9487 = stats.poisson.pmf(9487,r_h)\n",
    "print(f'The probability of observing 9487 signals in one hour is p = {p_9487}')"
   ]
  },
  {
   "cell_type": "code",
   "execution_count": 58,
   "id": "9b9291f8",
   "metadata": {},
   "outputs": [
    {
     "name": "stdout",
     "output_type": "stream",
     "text": [
      "0.0\n",
      "The z-score is z = -5.571124816057189\n"
     ]
    }
   ],
   "source": [
    "#Since detections are poission distributed then the std deviation is sqrt(r)\n",
    "z=(9487-r_h)/(np.sqrt(r_h))\n",
    "z_sf = stats.norm.sf(r_h,loc=9487) #Hjælp\n",
    "print(z_sf)\n",
    "print(f'The z-score is z = {z}')"
   ]
  },
  {
   "attachments": {},
   "cell_type": "markdown",
   "id": "6dac5122",
   "metadata": {},
   "source": [
    "This is a very extraordinary measurement, since the probability is $5.5*10^{-10}$."
   ]
  },
  {
   "cell_type": "code",
   "execution_count": 100,
   "metadata": {},
   "outputs": [],
   "source": [
    "r = np.random # Random generator\n",
    "r.seed(42)    # Set a random seed (but a fixed one)"
   ]
  },
  {
   "cell_type": "code",
   "execution_count": null,
   "id": "4d88b4d9",
   "metadata": {},
   "outputs": [],
   "source": []
  }
 ],
 "metadata": {
  "kernelspec": {
   "display_name": "base",
   "language": "python",
   "name": "python3"
  },
  "language_info": {
   "codemirror_mode": {
    "name": "ipython",
    "version": 3
   },
   "file_extension": ".py",
   "mimetype": "text/x-python",
   "name": "python",
   "nbconvert_exporter": "python",
   "pygments_lexer": "ipython3",
   "version": "3.8.3 (default, Jul  2 2020, 17:30:36) [MSC v.1916 64 bit (AMD64)]"
  },
  "vscode": {
   "interpreter": {
    "hash": "86375d64dae07698351ac76e569087e6053bcbeab2bf9c1ac0b19c9728c81fbe"
   }
  }
 },
 "nbformat": 4,
 "nbformat_minor": 5
}
