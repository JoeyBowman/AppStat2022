{
 "cells": [
  {
   "cell_type": "markdown",
   "metadata": {},
   "source": [
    "### Script for reading data for Problem 4.1 (data_GripStrength.txt) in Applied Statistics 2022 problem set:\n",
    "\n",
    "This script reads the file __\"data_GripStrength.txt\"__ for Problem 4.1 in the problem set of Applied Statistics 2022/23. This data files contains 84 entries in three columns: \n",
    "\n",
    "* **dominant hand** (0 - left hand, 1 - right hand),\n",
    "* **grip strength** (N) of the dominant hand,\n",
    "* **grip strength** (N) of the non-dominant hand.\n",
    "\n",
    "####  Author: \n",
    "- Troels Petersen (Niels Bohr Institute, petersen@nbi.dk)\n",
    "\n",
    "####  Date:   \n",
    " - 1st of December 2022"
   ]
  },
  {
   "cell_type": "code",
   "execution_count": 1,
   "metadata": {},
   "outputs": [],
   "source": [
    "import pandas as pd\n",
    "import numpy as np                                     # Matlab like syntax for linear algebra and functions\n",
    "from numpy.linalg import matrix_power                  # This is to raise matrices to powers\n",
    "import matplotlib.pyplot as plt                        # Plots and figures like you know them from Matlab\n",
    "import seaborn as sns                                  # Make the plots nicer to look at\n",
    "from iminuit import Minuit                             # The actual fitting tool, better than scipy's\n",
    "import sys                                             # Module to see files and folders in directories\n",
    "from scipy import stats\n",
    "import sympy as sp\n",
    "sys.path.append('../External_Functions')\n",
    "from ExternalFunctions import UnbinnedLH, BinnedLH, Chi2Regression"
   ]
  },
  {
   "cell_type": "code",
   "execution_count": 2,
   "metadata": {},
   "outputs": [
    {
     "data": {
      "text/html": [
       "<div>\n",
       "<style scoped>\n",
       "    .dataframe tbody tr th:only-of-type {\n",
       "        vertical-align: middle;\n",
       "    }\n",
       "\n",
       "    .dataframe tbody tr th {\n",
       "        vertical-align: top;\n",
       "    }\n",
       "\n",
       "    .dataframe thead th {\n",
       "        text-align: right;\n",
       "    }\n",
       "</style>\n",
       "<table border=\"1\" class=\"dataframe\">\n",
       "  <thead>\n",
       "    <tr style=\"text-align: right;\">\n",
       "      <th></th>\n",
       "      <th>DominantHand</th>\n",
       "      <th>DominantGrip(N)</th>\n",
       "      <th>NonDominantGrip(N)</th>\n",
       "    </tr>\n",
       "  </thead>\n",
       "  <tbody>\n",
       "    <tr>\n",
       "      <th>0</th>\n",
       "      <td>1.0</td>\n",
       "      <td>293.24</td>\n",
       "      <td>241.50</td>\n",
       "    </tr>\n",
       "    <tr>\n",
       "      <th>1</th>\n",
       "      <td>1.0</td>\n",
       "      <td>547.39</td>\n",
       "      <td>552.01</td>\n",
       "    </tr>\n",
       "    <tr>\n",
       "      <th>2</th>\n",
       "      <td>0.0</td>\n",
       "      <td>578.85</td>\n",
       "      <td>495.98</td>\n",
       "    </tr>\n",
       "    <tr>\n",
       "      <th>3</th>\n",
       "      <td>1.0</td>\n",
       "      <td>342.30</td>\n",
       "      <td>342.18</td>\n",
       "    </tr>\n",
       "    <tr>\n",
       "      <th>4</th>\n",
       "      <td>1.0</td>\n",
       "      <td>337.79</td>\n",
       "      <td>347.14</td>\n",
       "    </tr>\n",
       "    <tr>\n",
       "      <th>...</th>\n",
       "      <td>...</td>\n",
       "      <td>...</td>\n",
       "      <td>...</td>\n",
       "    </tr>\n",
       "    <tr>\n",
       "      <th>79</th>\n",
       "      <td>1.0</td>\n",
       "      <td>335.67</td>\n",
       "      <td>305.39</td>\n",
       "    </tr>\n",
       "    <tr>\n",
       "      <th>80</th>\n",
       "      <td>1.0</td>\n",
       "      <td>362.91</td>\n",
       "      <td>336.60</td>\n",
       "    </tr>\n",
       "    <tr>\n",
       "      <th>81</th>\n",
       "      <td>1.0</td>\n",
       "      <td>659.39</td>\n",
       "      <td>623.32</td>\n",
       "    </tr>\n",
       "    <tr>\n",
       "      <th>82</th>\n",
       "      <td>1.0</td>\n",
       "      <td>292.84</td>\n",
       "      <td>254.46</td>\n",
       "    </tr>\n",
       "    <tr>\n",
       "      <th>83</th>\n",
       "      <td>1.0</td>\n",
       "      <td>550.36</td>\n",
       "      <td>517.24</td>\n",
       "    </tr>\n",
       "  </tbody>\n",
       "</table>\n",
       "<p>84 rows × 3 columns</p>\n",
       "</div>"
      ],
      "text/plain": [
       "    DominantHand   DominantGrip(N)   NonDominantGrip(N)\n",
       "0            1.0            293.24               241.50\n",
       "1            1.0            547.39               552.01\n",
       "2            0.0            578.85               495.98\n",
       "3            1.0            342.30               342.18\n",
       "4            1.0            337.79               347.14\n",
       "..           ...               ...                  ...\n",
       "79           1.0            335.67               305.39\n",
       "80           1.0            362.91               336.60\n",
       "81           1.0            659.39               623.32\n",
       "82           1.0            292.84               254.46\n",
       "83           1.0            550.36               517.24\n",
       "\n",
       "[84 rows x 3 columns]"
      ]
     },
     "execution_count": 2,
     "metadata": {},
     "output_type": "execute_result"
    }
   ],
   "source": [
    "dataframe = pd.read_csv('data_GripStrength.csv', header=0, index_col=None)\n",
    "domhand, dom_grip, ndom_grip = dataframe.values.T\n",
    "dataframe"
   ]
  },
  {
   "cell_type": "markdown",
   "metadata": {},
   "source": [
    "Print the first 10 entries to check the content of the file and access of data:"
   ]
  },
  {
   "cell_type": "code",
   "execution_count": 3,
   "metadata": {},
   "outputs": [
    {
     "name": "stdout",
     "output_type": "stream",
     "text": [
      "  dominant hand = 1.00    dominant grip = 293.24 N    non-dominant grip = 241.50 N\n",
      "  dominant hand = 1.00    dominant grip = 547.39 N    non-dominant grip = 552.01 N\n",
      "  dominant hand = 0.00    dominant grip = 578.85 N    non-dominant grip = 495.98 N\n",
      "  dominant hand = 1.00    dominant grip = 342.30 N    non-dominant grip = 342.18 N\n",
      "  dominant hand = 1.00    dominant grip = 337.79 N    non-dominant grip = 347.14 N\n",
      "  dominant hand = 0.00    dominant grip = 510.41 N    non-dominant grip = 493.16 N\n",
      "  dominant hand = 0.00    dominant grip = 188.86 N    non-dominant grip = 212.97 N\n",
      "  dominant hand = 0.00    dominant grip = 537.67 N    non-dominant grip = 497.41 N\n",
      "  dominant hand = 0.00    dominant grip = 235.56 N    non-dominant grip = 228.56 N\n",
      "  dominant hand = 1.00    dominant grip = 217.30 N    non-dominant grip = 218.23 N\n"
     ]
    }
   ],
   "source": [
    "for i in range(10):\n",
    "    print(f\"  dominant hand = {domhand[i]:4.2f}    dominant grip = {dom_grip[i]:6.2f} N    non-dominant grip = {ndom_grip[i]:6.2f} N\")"
   ]
  },
  {
   "cell_type": "code",
   "execution_count": 8,
   "metadata": {},
   "outputs": [
    {
     "name": "stdout",
     "output_type": "stream",
     "text": [
      "Fraction of people who are right handed = 0.81\n",
      "Mean dominant grip strength = 444.93 N\n",
      "Standard deviation of dominant grip strength = 144.14 N\n",
      "Error on mean dominant grip strength =  15.73 N\n",
      "Mean non-dominant grip strength = 418.48 N\n",
      "Standard deviation of non-dominant grip strength = 137.39 N\n",
      "Error on mean non-dominant grip strength =  14.99 N\n"
     ]
    }
   ],
   "source": [
    "# What fraction of people are right handed?\n",
    "frac_r = sum(domhand == 1)/len(domhand)\n",
    "print(f\"Fraction of people who are right handed = {frac_r:4.2f}\")\n",
    "\n",
    "# What is the mean strength of the dominant hand?\n",
    "mean_dom_grip = sum(dom_grip)/len(dom_grip)\n",
    "print(f\"Mean dominant grip strength = {mean_dom_grip:6.2f} N\")\n",
    "std_dom_grip = np.std(dom_grip)\n",
    "print(f\"Standard deviation of dominant grip strength = {std_dom_grip:6.2f} N\")\n",
    "er_mean_dom_grip = std_dom_grip/np.sqrt(len(dom_grip))\n",
    "print(f\"Error on mean dominant grip strength = {er_mean_dom_grip:6.2f} N\")\n",
    "\n",
    "# What is the mean strength of the non-dominant hand?\n",
    "mean_ndom_grip = sum(ndom_grip)/len(ndom_grip)\n",
    "print(f\"Mean non-dominant grip strength = {mean_ndom_grip:6.2f} N\")\n",
    "std_ndom_grip = np.std(ndom_grip)\n",
    "print(f\"Standard deviation of non-dominant grip strength = {std_ndom_grip:6.2f} N\")\n",
    "er_mean_ndom_grip = std_ndom_grip/np.sqrt(len(ndom_grip))\n",
    "print(f\"Error on mean non-dominant grip strength = {er_mean_ndom_grip:6.2f} N\")"
   ]
  },
  {
   "cell_type": "code",
   "execution_count": 5,
   "metadata": {},
   "outputs": [
    {
     "data": {
      "text/plain": [
       "Ttest_indResult(statistic=1.2100636494909534, pvalue=0.2279787070360244)"
      ]
     },
     "execution_count": 5,
     "metadata": {},
     "output_type": "execute_result"
    }
   ],
   "source": [
    "stats.ttest_ind(dom_grip, ndom_grip, equal_var=False)\n"
   ]
  },
  {
   "cell_type": "code",
   "execution_count": 12,
   "metadata": {},
   "outputs": [
    {
     "name": "stdout",
     "output_type": "stream",
     "text": [
      "Mean grip difference =  26.45 N\n",
      "Standard deviation of grip difference =  29.03 N\n",
      "Error on mean grip difference =   3.17 N\n"
     ]
    },
    {
     "data": {
      "image/png": "[encoded data removed]",
      "text/plain": [
       "<Figure size 432x288 with 1 Axes>"
      ]
     },
     "metadata": {
      "needs_background": "light"
     },
     "output_type": "display_data"
    }
   ],
   "source": [
    "grip_diff = dom_grip - ndom_grip\n",
    "plt.hist(grip_diff, bins=20)\n",
    "plt.xlabel(\"Grip difference (N)\")\n",
    "plt.ylabel(\"Counts\")\n",
    "\n",
    "\n",
    "mean_grip_diff = sum(grip_diff)/len(grip_diff)\n",
    "std_grip_diff = np.std(grip_diff)\n",
    "er_mean_grip_diff = std_grip_diff/np.sqrt(len(grip_diff))\n",
    "print(f\"Mean grip difference = {mean_grip_diff:6.2f} N\")\n",
    "print(f\"Standard deviation of grip difference = {std_grip_diff:6.2f} N\")\n",
    "print(f\"Error on mean grip difference = {er_mean_grip_diff:6.2f} N\")"
   ]
  },
  {
   "cell_type": "code",
   "execution_count": 7,
   "metadata": {},
   "outputs": [
    {
     "data": {
      "text/plain": [
       "Ttest_1sampResult(statistic=8.299203578908527, pvalue=1.6469976908961062e-12)"
      ]
     },
     "execution_count": 7,
     "metadata": {},
     "output_type": "execute_result"
    }
   ],
   "source": [
    "stats.ttest_1samp(grip_diff, 0)"
   ]
  },
  {
   "attachments": {},
   "cell_type": "markdown",
   "metadata": {},
   "source": [
    "So the Null hypothesis is that the mean of the grip strength of the dominant hand is equal to the mean of the grip strength of the non-dominant hand. With such a low p-value the null hypothesis is rejected and we can conclude that the grip strength of the dominant hand is statistically not equal to the grip strength of the non-dominant hand."
   ]
  },
  {
   "cell_type": "code",
   "execution_count": null,
   "metadata": {},
   "outputs": [],
   "source": []
  }
 ],
 "metadata": {
  "executable": "/usr/bin/env python",
  "kernelspec": {
   "display_name": "base",
   "language": "python",
   "name": "python3"
  },
  "language_info": {
   "codemirror_mode": {
    "name": "ipython",
    "version": 3
   },
   "file_extension": ".py",
   "mimetype": "text/x-python",
   "name": "python",
   "nbconvert_exporter": "python",
   "pygments_lexer": "ipython3",
   "version": "3.8.3"
  },
  "main_language": "python",
  "vscode": {
   "interpreter": {
    "hash": "86375d64dae07698351ac76e569087e6053bcbeab2bf9c1ac0b19c9728c81fbe"
   }
  }
 },
 "nbformat": 4,
 "nbformat_minor": 2
}
