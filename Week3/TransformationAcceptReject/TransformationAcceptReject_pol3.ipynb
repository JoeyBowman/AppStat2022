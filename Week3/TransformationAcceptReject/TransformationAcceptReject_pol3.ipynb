{
 "cells": [
  {
   "cell_type": "markdown",
   "metadata": {},
   "source": [
    "# The Transformation and Accept/Reject (aka. Von Neumann) methods \n",
    "Python notebook with exercise on how to generate random numbers following a specific PDF using uniformly distributed random numbers, in this case a third degree polynomial: $f(x) = x^3$, in the interval $[0, C]$ where $C$ is a number that ensures that the function if properly normalized.\n",
    "\n",
    "Both the Accept-Reject (Von Neumann) and transformation method should be considered for the problem:\n",
    "- Transformation method (if function can be integrated and then inverted).\n",
    "- Accept-Reject (or Hit & Miss) method (by Ulam Stanislav and John Von Neumann).\n",
    "\n",
    "### References:\n",
    "- G. Cowan: Chapter 3\n",
    "- P. R. Bevington: page 81-84\n",
    "- __[40. Monte Carlo Techniques PDG](http://pdg.lbl.gov/2020/reviews/rpp2020-rev-monte-carlo-techniques.pdf)__\n",
    "\n",
    "### Authors: \n",
    "- Troels C. Petersen (Niels Bohr Institute)\n",
    "\n",
    "### Date:    \n",
    "- 29-11-2022 (latest update)\n",
    "\n",
    "***"
   ]
  },
  {
   "cell_type": "code",
   "execution_count": 69,
   "metadata": {},
   "outputs": [],
   "source": [
    "import numpy as np                                     # Matlab like syntax for linear algebra and functions\n",
    "import matplotlib.pyplot as plt                        # Plots and figures like you know them from Matlab\n",
    "import seaborn as sns                                  # Make the plots nicer to look at\n",
    "from iminuit import Minuit                             # The actual fitting tool, better than scipy's\n",
    "import sys                                             # Modules to see files and folders in directories\n",
    "from scipy import stats\n",
    "import sympy as sy"
   ]
  },
  {
   "cell_type": "markdown",
   "metadata": {},
   "source": [
    "Load external functions:"
   ]
  },
  {
   "cell_type": "code",
   "execution_count": 70,
   "metadata": {},
   "outputs": [],
   "source": [
    "sys.path.append('../../External_Functions')\n",
    "from ExternalFunctions import Chi2Regression, BinnedLH, UnbinnedLH\n",
    "from ExternalFunctions import nice_string_output, add_text_to_ax    # Useful functions to print fit results on figure\n",
    "\n",
    "plt.rcParams['font.size'] = 18     # Set some basic plotting parameters"
   ]
  },
  {
   "cell_type": "markdown",
   "metadata": {},
   "source": [
    "set the parameters of the program:"
   ]
  },
  {
   "cell_type": "code",
   "execution_count": 108,
   "metadata": {},
   "outputs": [],
   "source": [
    "r = np.random\n",
    "r.seed(42)\n",
    "\n",
    "save_plots = False  \n",
    "N_points = 10000      # Number of random points used \n",
    "\n",
    "xmin = 1\n",
    "xmax = 1.0            # Find out yourself what a good interval is.\n",
    "N_bins = 100          # Find out yourself what a good number of bins is.\n",
    "\n",
    "# f(x):\n",
    "def fx_x3(x) :\n",
    "    k = (xmax - xmin) / N_bins\n",
    "    N = N_points * k\n",
    "    return N*x**3"
   ]
  },
  {
   "cell_type": "code",
   "execution_count": 109,
   "metadata": {},
   "outputs": [
    {
     "name": "stdout",
     "output_type": "stream",
     "text": [
      "Analytic integral:  x**4/4\n",
      "Upper limit of integration:  5**(1/4)\n"
     ]
    }
   ],
   "source": [
    "x, C = sy.symbols(['x','C'])\n",
    "xmax1=sy.solve(sy.integrate(x**3, (x, 1, C))-1,C)[1]\n",
    "i_analytic = sy.integrate(x**3, (x, 0, x))\n",
    "print(\"Analytic integral: \", i_analytic)\n",
    "print(\"Upper limit of integration: \", xmax1)"
   ]
  },
  {
   "cell_type": "code",
   "execution_count": 110,
   "metadata": {},
   "outputs": [],
   "source": [
    "xmax=5**(1/4)"
   ]
  },
  {
   "cell_type": "markdown",
   "metadata": {},
   "source": [
    "$$ F(x) = \\frac{x^4}{4} \\Rightarrow F(r)^{-1} = \\sqrt{2}r^{1/4}$$"
   ]
  },
  {
   "cell_type": "code",
   "execution_count": 113,
   "metadata": {},
   "outputs": [
    {
     "name": "stdout",
     "output_type": "stream",
     "text": [
      "x_transformation:  [1.10567777 1.07423028 0.91619532 ... 1.04984612 1.1539695  0.91109601]\n"
     ]
    }
   ],
   "source": [
    "x_transformation = np.power((r.uniform(size=N_points)),1/4)*np.sqrt(2)\n",
    "print(\"x_transformation: \", (x_transformation))"
   ]
  },
  {
   "cell_type": "code",
   "execution_count": 114,
   "metadata": {},
   "outputs": [
    {
     "data": {
      "image/png": "[encoded data removed]",
      "text/plain": [
       "<Figure size 864x432 with 1 Axes>"
      ]
     },
     "metadata": {
      "needs_background": "light"
     },
     "output_type": "display_data"
    }
   ],
   "source": [
    "fig, ax = plt.subplots(figsize=(12, 6))\n",
    "ax.hist(x_transformation, bins=N_bins, range=(xmin, xmax), histtype='step', label='Histogram')\n",
    "\n",
    "x_axis1 = np.linspace(xmin, xmax, 1000)\n",
    "y_axis1 = fx_x3(x_axis1)\n",
    "ax.plot(x_axis1, y_axis1, 'r-', label='function (not fitted)')\n",
    "\n",
    "ax.set(xlabel=\"x\", ylabel=\"Frequency / 0.01\", xlim=(xmin-0.1, xmax+0.1));"
   ]
  },
  {
   "cell_type": "code",
   "execution_count": 115,
   "metadata": {},
   "outputs": [],
   "source": [
    "# Define the numpy arrays to be filled:\n",
    "\n",
    "N_try = 0\n",
    "ymin = 0.0      # Minimum value the function will take!\n",
    "ymax = xmax**3      # Maximum value the function will take!\n",
    "x_accepted = np.zeros(N_points)\n",
    "\n",
    "for i in range(N_points):\n",
    "    \n",
    "    while True:\n",
    "        \n",
    "        # Count the number of tries, to get efficiency/integral\n",
    "        N_try += 1                    \n",
    "        \n",
    "        # Range that f(x) is defined/wanted in:\n",
    "        x_test = r.uniform(xmin, xmax)  \n",
    "        \n",
    "        # Upper bound for function values:\n",
    "        y_test = r.uniform(ymin, ymax)\n",
    "        \n",
    "        if (y_test <  x_test**3):\n",
    "            break\n",
    "            \n",
    "    x_accepted[i] = x_test\n",
    "\n"
   ]
  },
  {
   "cell_type": "code",
   "execution_count": 116,
   "metadata": {},
   "outputs": [
    {
     "name": "stdout",
     "output_type": "stream",
     "text": [
      "\n",
      "Integral of f(x) = x^3, x in [0, 1.41] is: \t  1.0004 +- 0.0063\n",
      "The efficiency of the Accept/Reject method used here is: \t 60.40% +/- 0.38%\n"
     ]
    }
   ],
   "source": [
    "# Efficiency\n",
    "eff = N_points / N_try                        \n",
    "\n",
    "# Error on efficiency (binomial!)\n",
    "eff_error = np.sqrt(eff * (1-eff) / N_try) \n",
    "\n",
    "# Integral\n",
    "integral =  eff * (xmax-xmin) * (ymax-ymin)\n",
    "\n",
    "# Error on integral\n",
    "eintegral = eff_error * (xmax-xmin) * (ymax-ymin)  \n",
    "\n",
    "print(f\"\\nIntegral of f(x) = x^3, x in [0, 1.41] is: \\t {integral:7.4f} +- {eintegral:6.4f}\")\n",
    "print(f\"The efficiency of the Accept/Reject method used here is: \\t {eff:.2%} +/- {eff_error:.2%}\")\n",
    "# We normalized the function ahead of time, so we should hope to get a result consistent with unity!"
   ]
  },
  {
   "cell_type": "code",
   "execution_count": 117,
   "metadata": {},
   "outputs": [
    {
     "data": {
      "image/png": "[encoded data removed]",
      "text/plain": [
       "<Figure size 864x432 with 1 Axes>"
      ]
     },
     "metadata": {
      "needs_background": "light"
     },
     "output_type": "display_data"
    }
   ],
   "source": [
    "fig2, ax2 = plt.subplots(figsize=(12, 6))\n",
    "ax2.hist(x_accepted, bins=N_bins, range=(xmin, xmax), histtype='step', label='histogram' )\n",
    "ax2.plot(x_axis1, y_axis1, 'r-', label='function (not fitted)')\n",
    "ax2.set(xlabel=\"x (exponentially distributed)\", ylabel=\"Frequency\", xlim=(xmin-0.1, xmax+0.1));"
   ]
  },
  {
   "cell_type": "markdown",
   "metadata": {},
   "source": [
    "## Problem: \n",
    "\n",
    "1) Calculate $C$ such that f(x) is normalised [Analytical problem].\n",
    "\n",
    "$$1 = \\int_{0}^{C} x'^3 dx' \\Rightarrow C=4^{1/4} = \\sqrt{2} $$\n",
    "\n",
    "2) Calculate the relevant integral (below) and inverted function for using the transformation method. Check that the limits actually makes sense [Analytical problem]. Note that it is important to include the limits!\n",
    "\n",
    "$$F(x) = \\int_{0}^{x} f(x') dx'$$\n",
    "\n",
    "3) Produce random points following $f(x) = x^3$, in the interval $[0, C]$ using **both** the Transformation and the Accept/Reject method.\n",
    "\n",
    "4) Fit your data with a third degree polynomial, and check that the coefficients correspond to what you would expect.\n",
    "\n",
    "5) Now try to change the interval from [0,C] to [1,C], and see how the limits change."
   ]
  },
  {
   "cell_type": "markdown",
   "metadata": {},
   "source": [
    "# Learning points:\n",
    "\n",
    "As a basic principle, this exercise should make you capable of using two methods for generating random numbers according to a 1D PDF f(x) based on uniform random numbers (provided by a standard algorithm):\n",
    "1. Transformation method (using integral+inverse of f(x))\n",
    "2. Accept-Reject method (using sampling in 2D compared to f(x))\n",
    "\n",
    "You should know:\n",
    "1. The advantages and limitations of each method.\n",
    "2. How to get the desired result out of each method.\n",
    "\n",
    "Finally, you should understand the motivation behind generating random numbers according to a given distribution, namely for simulating complicated situations (e.g. experimental setup), and evaluating the outcome."
   ]
  }
 ],
 "metadata": {
  "executable": "/usr/bin/env python",
  "kernelspec": {
   "display_name": "Python 3.8.3 ('base')",
   "language": "python",
   "name": "python3"
  },
  "language_info": {
   "codemirror_mode": {
    "name": "ipython",
    "version": 3
   },
   "file_extension": ".py",
   "mimetype": "text/x-python",
   "name": "python",
   "nbconvert_exporter": "python",
   "pygments_lexer": "ipython3",
   "version": "3.8.3"
  },
  "main_language": "python",
  "vscode": {
   "interpreter": {
    "hash": "86375d64dae07698351ac76e569087e6053bcbeab2bf9c1ac0b19c9728c81fbe"
   }
  }
 },
 "nbformat": 4,
 "nbformat_minor": 2
}
