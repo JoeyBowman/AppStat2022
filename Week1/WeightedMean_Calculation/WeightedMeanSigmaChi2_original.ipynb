{
 "cells": [
  {
   "cell_type": "markdown",
   "metadata": {},
   "source": [
    "# Calculating Weighted Mean, Standard Deviation, $\\chi^2$ and $\\chi^2$-probability.\n",
    "\n",
    "Very small notebook testing if your calculation of the weighted mean, the standard deviation, the $\\chi^2$-value and the $\\chi^2$-probability are correct. We use as example five measurements of a distance (too a hook!) with uncertainty. You should insert your own code in the cells below. If you can run the entire notebook without any (Assertion)errors, your code has passed!\n",
    "\n",
    "***\n",
    "\n",
    "### Author(s): \n",
    "- Troels C. Petersen (Niels Bohr Institute)\n",
    "\n",
    "### Date:    \n",
    "- 17-11-2022 (latest update)"
   ]
  },
  {
   "cell_type": "code",
   "execution_count": 2,
   "metadata": {},
   "outputs": [],
   "source": [
    "import numpy as np\n",
    "from scipy import stats"
   ]
  },
  {
   "cell_type": "markdown",
   "metadata": {},
   "source": [
    "Below we define the data for the measurements of the heights of the hook (in mm, though that is irrelavant here) and their estimated uncertainties:"
   ]
  },
  {
   "cell_type": "code",
   "execution_count": 3,
   "metadata": {
    "lines_to_next_cell": 2
   },
   "outputs": [],
   "source": [
    "dhook = np.array([17.8, 18.1, 17.7, 17.7 ])\n",
    "err_dhook = np.array([0.5, 0.3, 0.5, 0.2])"
   ]
  },
  {
   "cell_type": "markdown",
   "metadata": {},
   "source": [
    "Testing the weighted mean calculation. This is where you should start pasting your code! "
   ]
  },
  {
   "cell_type": "code",
   "execution_count": 9,
   "metadata": {},
   "outputs": [
    {
     "name": "stdout",
     "output_type": "stream",
     "text": [
      "17.809823677581864\n"
     ]
    }
   ],
   "source": [
    "\n",
    "\n",
    "\n",
    "# Insert own code here to calculate the weighted mean, mean_weighted\n",
    "\n",
    "mean_weighted = np.sum(dhook/err_dhook**2)/np.sum(1/err_dhook**2)\n",
    "\n",
    "\n",
    "\n",
    "print(mean_weighted)\n",
    "assert np.isclose(mean_weighted, 17.80982367758186)"
   ]
  },
  {
   "cell_type": "markdown",
   "metadata": {},
   "source": [
    "Testing the weighted error:"
   ]
  },
  {
   "cell_type": "code",
   "execution_count": 12,
   "metadata": {},
   "outputs": [
    {
     "name": "stdout",
     "output_type": "stream",
     "text": [
      "0.1505656839685487\n"
     ]
    }
   ],
   "source": [
    "\n",
    "\n",
    "\n",
    "# Insert own code here to calculate the weighted error, err_weighted\n",
    "\n",
    "\n",
    "err_weighted = np.sqrt(1/np.sum(1/err_dhook**2))\n",
    "\n",
    "\n",
    "\n",
    "print(err_weighted)\n",
    "assert np.isclose(err_weighted, 0.15056568396854866)"
   ]
  },
  {
   "cell_type": "markdown",
   "metadata": {},
   "source": [
    "Testing the $\\chi^2$-value:"
   ]
  },
  {
   "cell_type": "code",
   "execution_count": 17,
   "metadata": {},
   "outputs": [
    {
     "name": "stdout",
     "output_type": "stream",
     "text": [
      "1.2857430730478725\n"
     ]
    }
   ],
   "source": [
    "\n",
    "\n",
    "\n",
    "# Insert own code here to calculate the chi2 value, chi2\n",
    "\n",
    "\n",
    "chitwo = np.sum((mean_weighted-dhook)**2/err_dhook**2)\n",
    "\n",
    "\n",
    "\n",
    "print(chitwo)\n",
    "assert np.isclose(chitwo, 1.2857430730478727)"
   ]
  },
  {
   "cell_type": "markdown",
   "metadata": {},
   "source": [
    "Testing the $\\chi^2$-probability:"
   ]
  },
  {
   "cell_type": "code",
   "execution_count": 18,
   "metadata": {
    "lines_to_next_cell": 2
   },
   "outputs": [
    {
     "name": "stdout",
     "output_type": "stream",
     "text": [
      "0.7325212770446814\n"
     ]
    }
   ],
   "source": [
    "\n",
    "\n",
    "\n",
    "# Insert own code here to calculate the chi2 probability, chi2_prob\n",
    "Ndof = len(dhook)-1\n",
    "\n",
    "chi2_prob =stats.chi2.sf(chitwo, Ndof)\n",
    "\n",
    "\n",
    "\n",
    "print(chi2_prob)\n",
    "assert np.isclose(chi2_prob, 0.7325212770446814)"
   ]
  },
  {
   "cell_type": "markdown",
   "metadata": {},
   "source": [
    "# Learning points:\n",
    "\n",
    "You should:\n",
    "1. Know the difference between an unweighted and a weighted mean.\n",
    "2. Know that a weighted mean is like a Chi2 fit with a single parameter (the mean!).\n",
    "3. Be able to test (with Chi2 and p-value) if input values of weighted mean are consistent.   "
   ]
  }
 ],
 "metadata": {
  "executable": "/usr/bin/env python2",
  "interpreter": {
   "hash": "86375d64dae07698351ac76e569087e6053bcbeab2bf9c1ac0b19c9728c81fbe"
  },
  "kernelspec": {
   "display_name": "Python 3.8.3 ('base')",
   "language": "python",
   "name": "python3"
  },
  "language_info": {
   "codemirror_mode": {
    "name": "ipython",
    "version": 3
   },
   "file_extension": ".py",
   "mimetype": "text/x-python",
   "name": "python",
   "nbconvert_exporter": "python",
   "pygments_lexer": "ipython3",
   "version": "3.8.3 (default, Jul  2 2020, 17:30:36) [MSC v.1916 64 bit (AMD64)]"
  },
  "main_language": "python"
 },
 "nbformat": 4,
 "nbformat_minor": 2
}
